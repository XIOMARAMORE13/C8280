{
  "cells": [
    {
      "cell_type": "markdown",
      "metadata": {
        "id": "view-in-github",
        "colab_type": "text"
      },
      "source": [
        "<a href=\"https://colab.research.google.com/github/XIOMARAMORE13/C8280/blob/main/Numpy.ipynb\" target=\"_parent\"><img src=\"https://colab.research.google.com/assets/colab-badge.svg\" alt=\"Open In Colab\"/></a>"
      ]
    },
    {
      "cell_type": "markdown",
      "metadata": {
        "id": "g5p1zhVdHRJH"
      },
      "source": [
        "## Numpy\n",
        "\n",
        "NumPy es la librería central para computación científica en Python. Proporciona un objeto de matriz multidimensional de alto rendimiento y herramientas para trabajar con estas matrices.\n",
        "\n",
        "#### Matrices\n",
        "\n",
        "Una matriz NumPy es una colección de valores de tipos de datos similares y está indexada por una tupla de números no negativos. El rango de la matriz es el número de dimensiones, y la forma de una matriz es una tupla de números que dan el tamaño de la matriz a lo largo de cada dimensión.\n"
      ]
    },
    {
      "cell_type": "code",
      "execution_count": 3,
      "metadata": {
        "id": "fEYOnETfqaMK",
        "colab": {
          "base_uri": "https://localhost:8080/"
        },
        "outputId": "f81ce317-2ac3-48e2-9f8b-4937afce0925"
      },
      "outputs": [
        {
          "output_type": "stream",
          "name": "stdout",
          "text": [
            "0.0004782676696777344 0.004770755767822266\n",
            "Numpy es en este ejemplo0.10024987506246877 más rápido!\n"
          ]
        }
      ],
      "source": [
        "# Ejemplo\n",
        "from __future__ import division\n",
        "import time\n",
        "import numpy as np\n",
        "\n",
        "\n",
        "tam_vec = 1000\n",
        "def lista_python():\n",
        "    t1 = time.time()\n",
        "    X = range(tam_vec)\n",
        "    Y = range(tam_vec)\n",
        "    Z = []\n",
        "    for i in range(len(X)):\n",
        "        Z.append(X[i] + Y[i])\n",
        "    return time.time() - t1\n",
        "\n",
        "def matriz_numpy():\n",
        "    t1 = time.time()\n",
        "    X = np.arange(tam_vec)\n",
        "    Y = np.arange(tam_vec)\n",
        "    Z = X + Y\n",
        "    return time.time() - t1\n",
        "\n",
        "# Completar\n",
        "t1 = lista_python()\n",
        "t2 = matriz_numpy()\n",
        "print(t1, t2)\n",
        "print (\"Numpy es en este ejemplo\" + str(t1/t2) + \" más rápido!\")"
      ]
    },
    {
      "cell_type": "code",
      "execution_count": 4,
      "metadata": {
        "id": "OufDp2ReqaMM"
      },
      "outputs": [],
      "source": [
        "#import numpy\n",
        "#numpy.__version__"
      ]
    },
    {
      "cell_type": "markdown",
      "metadata": {
        "id": "BhyocdoIqaMM"
      },
      "source": [
        "Podemos inicializar matrices NumPy a partir de listas de Python anidadas y acceder a los elementos mediante corchetes."
      ]
    },
    {
      "cell_type": "code",
      "execution_count": 5,
      "metadata": {
        "id": "oV13ZLdhqaMN",
        "colab": {
          "base_uri": "https://localhost:8080/"
        },
        "outputId": "7233c12e-fe21-4316-e9d6-a8afbb16cba3"
      },
      "outputs": [
        {
          "output_type": "stream",
          "name": "stdout",
          "text": [
            "<class 'numpy.ndarray'>\n",
            "(3,)\n",
            "0\n",
            "1\n",
            "2\n",
            "[5 1 2]\n"
          ]
        }
      ],
      "source": [
        "import numpy as np\n",
        "\n",
        "# Creamos una matriz de rango 1\n",
        "a = np.array([0, 1, 2])\n",
        "print (type(a))\n",
        "\n",
        "# Imprimimos la dimension de la matriz\n",
        "print (a.shape)\n",
        "print (a[0])\n",
        "print (a[1])\n",
        "print (a[2])\n",
        "\n",
        "# Cambiamos un elemento de un array\n",
        "a[0] = 5\n",
        "print (a)"
      ]
    },
    {
      "cell_type": "code",
      "execution_count": null,
      "metadata": {
        "id": "AM3wLIGFqaMN",
        "colab": {
          "base_uri": "https://localhost:8080/"
        },
        "outputId": "919a9865-a6ad-40e8-efc7-1aa101cf285a"
      },
      "outputs": [
        {
          "output_type": "stream",
          "name": "stdout",
          "text": [
            "(2, 3)\n",
            "[[0 1 2]\n",
            " [3 4 5]]\n",
            "0 1 3\n"
          ]
        }
      ],
      "source": [
        "# Creamos una matriz de rango 2\n",
        "b = np.array([[0,1,2],[3,4,5]])\n",
        "print (b.shape)\n",
        "print (b)\n",
        "print (b[0, 0], b[0, 1], b[1, 0])"
      ]
    },
    {
      "cell_type": "code",
      "execution_count": null,
      "metadata": {
        "id": "cq2gOFB4qaMO",
        "colab": {
          "base_uri": "https://localhost:8080/"
        },
        "outputId": "5d4d0839-d91b-4615-ee53-1aa630d4fcf7"
      },
      "outputs": [
        {
          "output_type": "stream",
          "name": "stdout",
          "text": [
            "(2, 3)\n",
            "0 1 3\n"
          ]
        }
      ],
      "source": [
        "print ( b.shape)\n",
        "print ( b[0, 0], b[0, 1], b[1, 0])"
      ]
    },
    {
      "cell_type": "markdown",
      "metadata": {
        "id": "pNtk4_8UqaMO"
      },
      "source": [
        "### Creación de una matriz NumPy\n",
        "\n",
        "NumPy también proporciona muchas funciones integradas para crear matrices. La mejor manera de aprender esto es a través de ejemplos, así que pasemos al código."
      ]
    },
    {
      "cell_type": "code",
      "execution_count": null,
      "metadata": {
        "id": "NyYKtrrGqaMP",
        "colab": {
          "base_uri": "https://localhost:8080/"
        },
        "outputId": "f7646822-0b63-4bcf-b030-1fd714d2f7bc"
      },
      "outputs": [
        {
          "output_type": "stream",
          "name": "stdout",
          "text": [
            "[[0. 0. 0.]\n",
            " [0. 0. 0.]\n",
            " [0. 0. 0.]]\n"
          ]
        }
      ],
      "source": [
        "# Creamos una matriz 3x3 de todos ceros\n",
        "a = np.zeros((3,3))\n",
        "print (a)"
      ]
    },
    {
      "cell_type": "code",
      "execution_count": null,
      "metadata": {
        "id": "mCLST8l6qaMQ",
        "colab": {
          "base_uri": "https://localhost:8080/"
        },
        "outputId": "d2957760-9c89-49be-ca59-310aed61d766"
      },
      "outputs": [
        {
          "output_type": "stream",
          "name": "stdout",
          "text": [
            "[[1. 1.]\n",
            " [1. 1.]]\n"
          ]
        }
      ],
      "source": [
        "# Creamos una matriz 2x2 de todos 1\n",
        "b = np.ones((2,2))\n",
        "print (b)"
      ]
    },
    {
      "cell_type": "code",
      "execution_count": null,
      "metadata": {
        "id": "6CJQKnPbqaMQ",
        "colab": {
          "base_uri": "https://localhost:8080/"
        },
        "outputId": "5490d8a1-71b9-4af4-8f9b-b5b4bca774a5"
      },
      "outputs": [
        {
          "output_type": "stream",
          "name": "stdout",
          "text": [
            "[[7 7 7]\n",
            " [7 7 7]\n",
            " [7 7 7]]\n"
          ]
        }
      ],
      "source": [
        "# Creamos una matriz 3x3 constantes\n",
        "c = np.full((3,3), 7)\n",
        "print(c)"
      ]
    },
    {
      "cell_type": "code",
      "execution_count": null,
      "metadata": {
        "id": "6WrXOZLfqaMR",
        "colab": {
          "base_uri": "https://localhost:8080/"
        },
        "outputId": "573db937-6dbf-47d0-a930-e4db59c82519"
      },
      "outputs": [
        {
          "output_type": "stream",
          "name": "stdout",
          "text": [
            "[[0.00277728 0.41270988 0.10804529]\n",
            " [0.49039706 0.94037126 0.99407587]\n",
            " [0.00506464 0.81845012 0.56906337]]\n"
          ]
        }
      ],
      "source": [
        "# Creamos una matriz 3x3 con valores aleatorios\n",
        "d = np.random.random((3,3))\n",
        "print (d)"
      ]
    },
    {
      "cell_type": "code",
      "execution_count": null,
      "metadata": {
        "id": "2Fh7ah1dqaMR",
        "colab": {
          "base_uri": "https://localhost:8080/"
        },
        "outputId": "cc17953a-ee7b-413c-8bdf-731c88a6f8ff"
      },
      "outputs": [
        {
          "output_type": "stream",
          "name": "stdout",
          "text": [
            "[[1. 0. 0.]\n",
            " [0. 1. 0.]\n",
            " [0. 0. 1.]]\n"
          ]
        }
      ],
      "source": [
        "# Creamos una matriz identidad 3x3\n",
        "e = np.eye(3)\n",
        "print(e)"
      ]
    },
    {
      "cell_type": "code",
      "execution_count": null,
      "metadata": {
        "id": "3Z4n3uJbqaMR",
        "colab": {
          "base_uri": "https://localhost:8080/"
        },
        "outputId": "004a2e81-7b62-4a9a-885f-aa2e84c346d5"
      },
      "outputs": [
        {
          "output_type": "stream",
          "name": "stdout",
          "text": [
            "[2 3 1 0]\n"
          ]
        }
      ],
      "source": [
        "# Convertir una lista en una matriz\n",
        "f = np.array([2, 3, 1,0])\n",
        "print(f)"
      ]
    },
    {
      "cell_type": "code",
      "execution_count": null,
      "metadata": {
        "id": "tET5xDZ6qaMR",
        "colab": {
          "base_uri": "https://localhost:8080/"
        },
        "outputId": "19ccd0b6-bc61-4ff5-ff71-91734dd5b76a"
      },
      "outputs": [
        {
          "output_type": "stream",
          "name": "stdout",
          "text": [
            "[ 5  6  7  8  9 10 11 12 13 14 15]\n"
          ]
        }
      ],
      "source": [
        "# arange() crea matrices con valores que se incrementan regularmente\n",
        "import numpy as np\n",
        "\n",
        "matriz = np.arange(5, 16)\n",
        "print(matriz)\n"
      ]
    },
    {
      "cell_type": "code",
      "execution_count": null,
      "metadata": {
        "id": "RuGyOhkKqaMS",
        "colab": {
          "base_uri": "https://localhost:8080/"
        },
        "outputId": "0292dec1-ab0c-4eab-d9b4-6571b73b49d8"
      },
      "outputs": [
        {
          "output_type": "stream",
          "name": "stdout",
          "text": [
            "[[1 2]\n",
            " [3 4]\n",
            " [5 6]]\n"
          ]
        }
      ],
      "source": [
        "# Mezcla de tupla y listas\n",
        "#completar\n",
        "import numpy as np\n",
        "\n",
        "# Creamos una lista que contenga una tupla como elemento\n",
        "mi_lista = [(1, 2), (3, 4), (5, 6)]\n",
        "\n",
        "# Creamos un ndarray a partir de la lista\n",
        "mi_array = np.array(mi_lista)\n",
        "\n",
        "# Imprimimos el ndarray resultante\n",
        "print(mi_array)"
      ]
    },
    {
      "cell_type": "code",
      "execution_count": null,
      "metadata": {
        "id": "Qqm5sInQqaMS",
        "colab": {
          "base_uri": "https://localhost:8080/"
        },
        "outputId": "4fb3b1d4-0fb4-4ea8-a400-ffa740198f00"
      },
      "outputs": [
        {
          "output_type": "stream",
          "name": "stdout",
          "text": [
            "[1. 2. 3. 4. 5. 6. 7.]\n"
          ]
        }
      ],
      "source": [
        "# Crear una matriz de rango con tipo de datos flotante\n",
        "#completar\n",
        "i = np.arange(1, 8, dtype=np.float64)\n",
        "print(i)"
      ]
    },
    {
      "cell_type": "markdown",
      "metadata": {
        "id": "Ee1Sko4QqaMS"
      },
      "source": [
        "`linspace()`  crea matrices con un numero especifico de elementos que están espaciados por igual entre los valores inicial y final especificados"
      ]
    },
    {
      "cell_type": "code",
      "execution_count": null,
      "metadata": {
        "id": "nHza6HfaqaMT",
        "colab": {
          "base_uri": "https://localhost:8080/"
        },
        "outputId": "ea064007-727c-4ca5-c74f-abab65a1d3fe"
      },
      "outputs": [
        {
          "output_type": "stream",
          "name": "stdout",
          "text": [
            "[ 5.          6.66666667  8.33333333 10.         11.66666667 13.33333333]\n"
          ]
        }
      ],
      "source": [
        "# Completa\n",
        "import numpy as np\n",
        "\n",
        "matriz = np.linspace(start=5, stop=15, num=6, endpoint=False)\n",
        "\n",
        "print(matriz)\n"
      ]
    },
    {
      "cell_type": "markdown",
      "metadata": {
        "id": "FhxDR-cfqaMT"
      },
      "source": [
        "### Tipos de datos\n",
        "Una matriz es una colección de elementos del mismo tipo de datos y NumPy admite y proporciona funciones integradas para construir matrices con argumentos opcionales para especificar explícitamente los tipos de datos requeridos."
      ]
    },
    {
      "cell_type": "code",
      "execution_count": null,
      "metadata": {
        "id": "Um_OqxjPqaMT",
        "colab": {
          "base_uri": "https://localhost:8080/"
        },
        "outputId": "9026ac17-247b-4fb6-d39b-679909458ba1"
      },
      "outputs": [
        {
          "output_type": "stream",
          "name": "stdout",
          "text": [
            "int64 float64 int64\n"
          ]
        }
      ],
      "source": [
        "# Numpy escoge el tipo de datos\n",
        "x = np.array([0, 1])\n",
        "y = np.array([2.0, 3.0])\n",
        "\n",
        "# Fuerza un tipo de datos en particular\n",
        "z = np.array([5, 6], dtype=np.int64)\n",
        "print (x.dtype, y.dtype, z.dtype)"
      ]
    },
    {
      "cell_type": "markdown",
      "metadata": {
        "id": "-lRfXcA7qaMT"
      },
      "source": [
        "**Ejercicio** Completa el siguiente  código."
      ]
    },
    {
      "cell_type": "code",
      "execution_count": null,
      "metadata": {
        "id": "5ZJRGP7BqaMT",
        "colab": {
          "base_uri": "https://localhost:8080/"
        },
        "outputId": "35339fc0-fdf8-4a7c-dc8e-4cbd5fbb95d1"
      },
      "outputs": [
        {
          "output_type": "stream",
          "name": "stdout",
          "text": [
            "Atributos de x1:\n",
            "Dimensión: 1\n",
            "Forma: (6,)\n",
            "Tamaño: 6\n",
            "Tipo de datos: int64\n",
            "Tamaño de elementos: 8\n",
            "Tamaño en bytes: 48\n"
          ]
        }
      ],
      "source": [
        "#np.random.seed(0)\n",
        "\n",
        "#x1 = np.random.randint(10, size=6)  # matriz 1-d\n",
        "#x2 = np.random.randint(10, size=(5, 4))  # matriz-2d\n",
        "#3 = np.random.randint(10, size=(2, 4, 5)) # matriz-3d\n",
        "\n",
        "# Imprime los atributos : dim, shape, size, dtype, itemsize y nbytes\n",
        "\n",
        "# Completar\n",
        "import numpy as np\n",
        "\n",
        "np.random.seed(0)\n",
        "\n",
        "x1 = np.random.randint(10, size=6)  # matriz 1-d\n",
        "\n",
        "# Empezamos a imprimir los atributos de x1\n",
        "print(\"Atributos de x1:\")\n",
        "print(\"Dimensión:\", x1.ndim)\n",
        "print(\"Forma:\", x1.shape)\n",
        "print(\"Tamaño:\", x1.size)\n",
        "print(\"Tipo de datos:\", x1.dtype)\n",
        "print(\"Tamaño de elementos:\", x1.itemsize)\n",
        "print(\"Tamaño en bytes:\", x1.nbytes)"
      ]
    },
    {
      "cell_type": "markdown",
      "metadata": {
        "id": "hHdZuIRlqaMU"
      },
      "source": [
        "### Indexación de matrices\n",
        "\n",
        "NumPy ofrece varias formas de indexar en matrices. La sintaxis estándar de Python `x[obj]` se puede usar para indexar la matriz NumPy, donde `x` es la matriz y `obj` es la selección.\n",
        "\n",
        "Hay tres tipos de indexación disponibles:\n",
        "\n",
        "* Acceso al campo\n",
        "\n",
        "* Recorte básico\n",
        "\n",
        "* Indexación avanzada\n",
        "\n",
        "#### Acceso al campo\n",
        "\n",
        "Si el objeto ndarray es una matriz estructurada, se puede acceder a los campos de la matriz indexando la matriz con cadenas, como un diccionario. La indexación de `x['field-name']` devuelve una nueva vista de la matriz, que tiene la misma dimensión que `x`, excepto cuando el campo es una submatriz  que contiene sólo la parte de los datos en el campo especificado. Los tipos de datos se obtienen con `x.dtype['field-name']`."
      ]
    },
    {
      "cell_type": "code",
      "execution_count": null,
      "metadata": {
        "id": "OPuRiaI0qaMU",
        "colab": {
          "base_uri": "https://localhost:8080/"
        },
        "outputId": "d545c416-a4bb-47da-cb68-0b917205fe82"
      },
      "outputs": [
        {
          "output_type": "stream",
          "name": "stdout",
          "text": [
            "[[(0, [[0., 0., 0.], [0., 0., 0.], [0., 0., 0.]])\n",
            "  (0, [[0., 0., 0.], [0., 0., 0.], [0., 0., 0.]])\n",
            "  (0, [[0., 0., 0.], [0., 0., 0.], [0., 0., 0.]])]\n",
            " [(0, [[0., 0., 0.], [0., 0., 0.], [0., 0., 0.]])\n",
            "  (0, [[0., 0., 0.], [0., 0., 0.], [0., 0., 0.]])\n",
            "  (0, [[0., 0., 0.], [0., 0., 0.], [0., 0., 0.]])]\n",
            " [(0, [[0., 0., 0.], [0., 0., 0.], [0., 0., 0.]])\n",
            "  (0, [[0., 0., 0.], [0., 0., 0.], [0., 0., 0.]])\n",
            "  (0, [[0., 0., 0.], [0., 0., 0.], [0., 0., 0.]])]]\n"
          ]
        }
      ],
      "source": [
        "x = np.zeros((3,3), dtype=[('a', np.int32), ('b', np.float64, (3,3))])\n",
        "print(x)"
      ]
    },
    {
      "cell_type": "code",
      "execution_count": null,
      "metadata": {
        "id": "qn7yP1DDqaMU",
        "colab": {
          "base_uri": "https://localhost:8080/"
        },
        "outputId": "642f0dc4-103d-4c3b-9482-97784ef43612"
      },
      "outputs": [
        {
          "output_type": "stream",
          "name": "stdout",
          "text": [
            "x['a'].shape:  (3, 3)\n",
            "x['a'].dtype:  int32\n",
            "x['b'].shape:  (3, 3, 3, 3)\n",
            "x['b'].dtype:  float64\n"
          ]
        }
      ],
      "source": [
        "print (\"x['a'].shape: \",x['a'].shape)\n",
        "print (\"x['a'].dtype: \", x['a'].dtype)\n",
        "\n",
        "print (\"x['b'].shape: \", x['b'].shape)\n",
        "print (\"x['b'].dtype: \", x['b'].dtype)"
      ]
    },
    {
      "cell_type": "markdown",
      "metadata": {
        "id": "CFyYL7BHqaMU"
      },
      "source": [
        "#### Recorte básico\n",
        "\n",
        "Las matrices NumPy se pueden dividir, de forma similar a las listas. Debe especificar un segmento para cada dimensión de la matriz, ya que las matrices pueden ser multidimensionales.\n",
        "\n",
        "La sintaxis de división básica es `i: j: k`, donde `i` es el índice inicial, `j` es el índice final, `k` es el paso y `k` no es igual a 0. Esto selecciona los elementos `m` en la dimensión correspondiente, con valores de índice `, i + k, ...,i + (m - 1)k` donde `m = q + (r distinto de 0)`,  `q` y `r` son el cociente y el resto se obtiene dividiendo `j - i` entre `k`: `j - i = qk + r`, de modo que `i + (m - 1) k < j`."
      ]
    },
    {
      "cell_type": "code",
      "execution_count": null,
      "metadata": {
        "id": "gXlzcajJqaMV",
        "colab": {
          "base_uri": "https://localhost:8080/"
        },
        "outputId": "c550dd68-c90d-44cd-a5e3-6b6b329951c5"
      },
      "outputs": [
        {
          "output_type": "execute_result",
          "data": {
            "text/plain": [
              "array([6, 8])"
            ]
          },
          "metadata": {},
          "execution_count": 21
        }
      ],
      "source": [
        "x = np.array([5, 6, 7, 8, 9])\n",
        "x[1:7:2]"
      ]
    },
    {
      "cell_type": "markdown",
      "metadata": {
        "id": "-NhBkQkcqaMV"
      },
      "source": [
        "La `k` negativa hace que los pasos vayan hacia índices más pequeños. Los `i` y `j` negativos se interpretan como `n + i` y `n + j` donde `n` es el número de elementos en la dimensión correspondiente."
      ]
    },
    {
      "cell_type": "code",
      "execution_count": null,
      "metadata": {
        "id": "gf66zIIFqaMV",
        "colab": {
          "base_uri": "https://localhost:8080/"
        },
        "outputId": "ed8784eb-e174-4942-f72f-a29d33929f2a"
      },
      "outputs": [
        {
          "output_type": "stream",
          "name": "stdout",
          "text": [
            "[8 9]\n",
            "[9 8 7]\n"
          ]
        }
      ],
      "source": [
        "print (x[-2:5])\n",
        "print (x[-1:1:-1])"
      ]
    },
    {
      "cell_type": "markdown",
      "metadata": {
        "id": "ZZN6H4gfqaMV"
      },
      "source": [
        "Si `n` es el número de elementos en la dimensión que se está recortando. Entonces, si no se proporciona `i`, el valor predeterminado es `0` para  `k > 0` y `n-1` para `k < 0`. Si no se proporciona `j`, el valor predeterminado es `n` para `k > 0` y `-1` para `k < 0`. Si no se proporciona `k`, el valor predeterminado es `1`. Ten en cuenta que `::` es lo mismo que `:` y significa seleccionar todos los índices a lo largo de este eje."
      ]
    },
    {
      "cell_type": "code",
      "execution_count": null,
      "metadata": {
        "id": "P4aUAvZDqaMV",
        "colab": {
          "base_uri": "https://localhost:8080/"
        },
        "outputId": "edf9e3ac-cb57-4bc7-b461-ef72191c740f"
      },
      "outputs": [
        {
          "output_type": "execute_result",
          "data": {
            "text/plain": [
              "array([9])"
            ]
          },
          "metadata": {},
          "execution_count": 24
        }
      ],
      "source": [
        "x[4:]"
      ]
    },
    {
      "cell_type": "markdown",
      "metadata": {
        "id": "LHGoBk77qaMW"
      },
      "source": [
        "Si el número de objetos en la tupla de selección es menor que N , entonces se asume `:` para cualquier dimensión subsiguiente."
      ]
    },
    {
      "cell_type": "code",
      "execution_count": null,
      "metadata": {
        "id": "gGBsOVcTqaMW"
      },
      "outputs": [],
      "source": [
        "# Completar\n",
        "import numpy as np\n",
        "\n",
        "mi_array = np.random.randint(10, size=(3, 4, 5))\n"
      ]
    },
    {
      "cell_type": "markdown",
      "metadata": {
        "id": "kWkK2ssnqaMW"
      },
      "source": [
        "Los puntos suspensivos se expanden al número de : objetos necesarios para hacer una tupla de selección de la misma longitud que `x.ndim`. Solo puede haber una sola elipsis presente."
      ]
    },
    {
      "cell_type": "code",
      "source": [
        "recorte = mi_array[:2, :, :]\n"
      ],
      "metadata": {
        "id": "BrvwsPZQVWXj"
      },
      "execution_count": null,
      "outputs": []
    },
    {
      "cell_type": "code",
      "execution_count": null,
      "metadata": {
        "id": "9EhQ_hm1qaMW",
        "colab": {
          "base_uri": "https://localhost:8080/"
        },
        "outputId": "a8622cbe-4ec1-43e8-ddf4-791373c6c1e1"
      },
      "outputs": [
        {
          "output_type": "stream",
          "name": "stdout",
          "text": [
            "[5 6 7 8 9]\n"
          ]
        }
      ],
      "source": [
        "print(x)"
      ]
    },
    {
      "cell_type": "code",
      "execution_count": null,
      "metadata": {
        "id": "L36IfJr7qaMX",
        "colab": {
          "base_uri": "https://localhost:8080/"
        },
        "outputId": "bfbd2622-2880-4264-8eb0-ee3c94437a13"
      },
      "outputs": [
        {
          "output_type": "execute_result",
          "data": {
            "text/plain": [
              "array(5)"
            ]
          },
          "metadata": {},
          "execution_count": 28
        }
      ],
      "source": [
        "x[...,0]"
      ]
    },
    {
      "cell_type": "markdown",
      "metadata": {
        "id": "HroUqdKDqaMX"
      },
      "source": [
        "#### Ejercicio\n",
        "\n",
        "1. Crea una matriz de rango `2` con dimension `(3, 4)`\n",
        "\n",
        "2. Usa el recorte para extraer la submatriz que consta de las primeras `2` filas y las columnas `1` y `2`.\n",
        "\n",
        "3. Una parte de una matriz es solo una vista de los mismos datos, comprueba que cualquier modificación modificará la matriz original.\n",
        "\n"
      ]
    },
    {
      "cell_type": "code",
      "execution_count": null,
      "metadata": {
        "id": "SO70Y-ssqaMX",
        "colab": {
          "base_uri": "https://localhost:8080/"
        },
        "outputId": "e07def39-2517-4a14-8101-1aa761182ebe"
      },
      "outputs": [
        {
          "output_type": "stream",
          "name": "stdout",
          "text": [
            "Submatriz:\n",
            "[[2 3]\n",
            " [6 7]]\n",
            "\n",
            "Matriz original:\n",
            "[[ 1 99  3  4]\n",
            " [ 5  6  7  8]\n",
            " [ 9 10 11 12]]\n"
          ]
        }
      ],
      "source": [
        "# Tu respuesta\n",
        "import numpy as np\n",
        "\n",
        "# Creamos la matriz de rango 2 con dimensiones (3, 4)\n",
        "matriz = np.array([[1, 2, 3, 4],\n",
        "                   [5, 6, 7, 8],\n",
        "                   [9, 10, 11, 12]])\n",
        "\n",
        "# Empezamos a recortar la submatriz de las primeras 2 filas y columnas 1 y 2\n",
        "submatriz = matriz[:2, 1:3]\n",
        "\n",
        "# Imprimimos la submatriz\n",
        "print(\"Submatriz:\")\n",
        "print(submatriz)\n",
        "\n",
        "# Modificamos la submatriz\n",
        "submatriz[0, 0] = 99\n",
        "\n",
        "# Imprimimos la matriz original\n",
        "print(\"\\nMatriz original:\")\n",
        "print(matriz)"
      ]
    },
    {
      "cell_type": "markdown",
      "metadata": {
        "id": "Pw-VG8JqqaMX"
      },
      "source": [
        "Se puede acceder a la matriz de la fila central de dos maneras.\n",
        "\n",
        "* Las partes junto con la indexación de enteros darán como resultado una matriz de rango inferior.\n",
        "\n",
        "* El uso de solo recortes dará como resultado el mismo rango matriz."
      ]
    },
    {
      "cell_type": "code",
      "execution_count": null,
      "metadata": {
        "id": "W1ddrRz4qaMY",
        "colab": {
          "base_uri": "https://localhost:8080/"
        },
        "outputId": "91ffc5ad-52dc-4849-eebd-17421887f2fa"
      },
      "outputs": [
        {
          "output_type": "stream",
          "name": "stdout",
          "text": [
            "[[ 1  2  3  4]\n",
            " [ 5  6  7  8]\n",
            " [ 9 10 11 12]]\n"
          ]
        }
      ],
      "source": [
        "# Creamos una matriz de rango 2 array con dimensión (3, 4)\n",
        "a = np.array([[1,2,3,4], [5,6,7,8], [9,10,11,12]])\n",
        "print (a)"
      ]
    },
    {
      "cell_type": "markdown",
      "metadata": {
        "id": "LYSx-APpqaMY"
      },
      "source": [
        "Dos formas de acceder a los datos en la fila central de la matriz. La combinación de la indexación de enteros con recortes produce una matriz de menor rango, mientras que el uso de solo recortes produce una matriz del mismo rango que la matriz original:"
      ]
    },
    {
      "cell_type": "code",
      "execution_count": null,
      "metadata": {
        "id": "c3xFq81hqaMY",
        "colab": {
          "base_uri": "https://localhost:8080/"
        },
        "outputId": "2396f65f-52cc-4d6a-e090-6c1b128a1d9c"
      },
      "outputs": [
        {
          "output_type": "stream",
          "name": "stdout",
          "text": [
            "[5 6 7 8] (4,)\n",
            "[[5 6 7 8]] (1, 4)\n",
            "[[5 6 7 8]] (1, 4)\n"
          ]
        }
      ],
      "source": [
        "fila_r1 = a[1, :]    # Vista de rango 1 de la segunda fila de a\n",
        "fila_r2 = a[1:2, :]  # Vista de rango 2 de la segunda fila de a\n",
        "fila_r3 = a[[1], :]  # Vista de ranfo 2 de la segunda fila de a\n",
        "print (fila_r1, fila_r1.shape)\n",
        "print (fila_r2, fila_r2.shape)\n",
        "print (fila_r3, fila_r3.shape)"
      ]
    },
    {
      "cell_type": "markdown",
      "metadata": {
        "id": "iYqVtaD6qaMY"
      },
      "source": [
        "Podemos hacer la misma distinción al acceder a las columnas de una matriz."
      ]
    },
    {
      "cell_type": "code",
      "execution_count": null,
      "metadata": {
        "id": "PJAluA4FqaMY",
        "colab": {
          "base_uri": "https://localhost:8080/"
        },
        "outputId": "cb38661e-0bd8-42ec-affb-20e40a3f6ba5"
      },
      "outputs": [
        {
          "output_type": "stream",
          "name": "stdout",
          "text": [
            "[ 2  6 10] (3,)\n",
            "[[ 2]\n",
            " [ 6]\n",
            " [10]] (3, 1)\n"
          ]
        }
      ],
      "source": [
        "col_r1 = a[:, 1]\n",
        "col_r2 = a[:, 1:2]\n",
        "print (col_r1, col_r1.shape)\n",
        "print (col_r2, col_r2.shape)"
      ]
    },
    {
      "cell_type": "markdown",
      "metadata": {
        "id": "PMt05HC7qaMZ"
      },
      "source": [
        "### Indexación avanzada\n"
      ]
    },
    {
      "cell_type": "code",
      "execution_count": null,
      "metadata": {
        "id": "-l49FKg_qaMZ",
        "colab": {
          "base_uri": "https://localhost:8080/"
        },
        "outputId": "93602896-f0eb-42fc-e125-582c27693d37"
      },
      "outputs": [
        {
          "output_type": "stream",
          "name": "stdout",
          "text": [
            "[1 4]\n",
            "[5 6 7 8]\n"
          ]
        }
      ],
      "source": [
        "a = np.array([[1,2], [3, 4]])\n",
        "print (a[[0, 1], [0, 1]])\n",
        "\n",
        "# El ejemplo de indexacion de una matriz entera es equivalente a esto:\n",
        "# completar\n",
        "import numpy as np\n",
        "\n",
        "# Creamos la matriz de rango 2 con dimensiones (3, 4)\n",
        "matriz = np.array([[1, 2, 3, 4],\n",
        "                   [5, 6, 7, 8],\n",
        "                   [9, 10, 11, 12]])\n",
        "\n",
        "# Comenzamos a indexar la matriz con un solo índice\n",
        "fila_plana = matriz[1]\n",
        "\n",
        "# Imprimimos la fila plana\n",
        "print(fila_plana)\n"
      ]
    },
    {
      "cell_type": "markdown",
      "metadata": {
        "id": "6NwtylSHqaMZ"
      },
      "source": [
        "# Al usar la indexacion de un matriz de enteros, puede reutilizar el mismo elemento de la matriz de origen:"
      ]
    },
    {
      "cell_type": "code",
      "execution_count": null,
      "metadata": {
        "id": "uAmd3gFYqaMZ",
        "colab": {
          "base_uri": "https://localhost:8080/"
        },
        "outputId": "2a2b8625-2d02-4f32-d5a2-569226533666"
      },
      "outputs": [
        {
          "output_type": "stream",
          "name": "stdout",
          "text": [
            "[2 2]\n",
            "[ 1  6 11]\n"
          ]
        }
      ],
      "source": [
        "print (a[[0, 0], [1, 1]])\n",
        "\n",
        "# Equivalente al ejemplo de indexacion de matriz de enteros\n",
        "# completar\n",
        "import numpy as np\n",
        "\n",
        "# Creamos una matriz de rango 2 con dimensiones (3, 4)\n",
        "matriz = np.array([[1, 2, 3, 4],\n",
        "                   [5, 6, 7, 8],\n",
        "                   [9, 10, 11, 12]])\n",
        "\n",
        "# Comenzamos a crear una matriz de enteros para indexar la matriz original\n",
        "indices = np.array([0, 1, 2])\n",
        "\n",
        "# Luega empezamos a Indexar la matriz original con los índices\n",
        "elementos = matriz[indices, indices]\n",
        "\n",
        "# Imprimimos los elementos seleccionados\n",
        "print(elementos)\n"
      ]
    },
    {
      "cell_type": "markdown",
      "metadata": {
        "id": "FOVCDT4tqaMZ"
      },
      "source": [
        "Un asunto  importante y extremadamente útil acerca de los recortes de una  matriz es que devuelven  *vistas (`views`)* en lugar de *copias (`copies`)*  de los datos de la matriz. Este es un área en la que NumPy  difiere de la lista de Python:  en las listas, estas son copias."
      ]
    },
    {
      "cell_type": "code",
      "execution_count": null,
      "metadata": {
        "id": "BR_5P6aJqaMa",
        "colab": {
          "base_uri": "https://localhost:8080/"
        },
        "outputId": "f58442b6-48b0-46b3-b841-1cb2b5c56e53"
      },
      "outputs": [
        {
          "output_type": "execute_result",
          "data": {
            "text/plain": [
              "array([[5, 0, 3, 3],\n",
              "       [7, 9, 3, 5],\n",
              "       [2, 4, 7, 6],\n",
              "       [8, 8, 1, 6],\n",
              "       [7, 7, 8, 1]])"
            ]
          },
          "metadata": {},
          "execution_count": 35
        }
      ],
      "source": [
        "np.random.seed(0)\n",
        "x2 = np.random.randint(10, size=(5, 4))\n",
        "x2"
      ]
    },
    {
      "cell_type": "code",
      "execution_count": null,
      "metadata": {
        "id": "-J15zJjXqaMa",
        "colab": {
          "base_uri": "https://localhost:8080/"
        },
        "outputId": "f421e88b-1f66-47e8-f539-dbf2aa10c0c6"
      },
      "outputs": [
        {
          "output_type": "stream",
          "name": "stdout",
          "text": [
            "[[5 0]\n",
            " [7 9]]\n"
          ]
        }
      ],
      "source": [
        "x2_sub = x2[:2, :2]\n",
        "print(x2_sub)"
      ]
    },
    {
      "cell_type": "code",
      "execution_count": null,
      "metadata": {
        "id": "jZwufbuwqaMa",
        "colab": {
          "base_uri": "https://localhost:8080/"
        },
        "outputId": "caf323df-8bbe-4b0e-9626-ee9586f3d939"
      },
      "outputs": [
        {
          "output_type": "stream",
          "name": "stdout",
          "text": [
            "[[99  0]\n",
            " [ 7  9]]\n"
          ]
        }
      ],
      "source": [
        "x2_sub[0, 0] = 99\n",
        "print(x2_sub)"
      ]
    },
    {
      "cell_type": "markdown",
      "metadata": {
        "id": "44JeYQoZqaMa"
      },
      "source": [
        "Este comportamiento predeterminado es realmente muy útil: significa que cuando trabajamos con grandes conjuntos de datos, podemos acceder y procesar partes de estos conjuntos de datos sin necesidad de copiar el búfer de datos.\n",
        "\n",
        "A pesar de las características  de las `vistas` de una  matriz, a veces es útil copiar de forma explícita los datos dentro de una matriz o una submatriz. Esto se puede hacer  con el método `copy()`:"
      ]
    },
    {
      "cell_type": "code",
      "execution_count": null,
      "metadata": {
        "id": "x_pEqBRWqaMb",
        "colab": {
          "base_uri": "https://localhost:8080/"
        },
        "outputId": "97ebafd1-3370-47be-c31a-6486ae6eb901"
      },
      "outputs": [
        {
          "output_type": "stream",
          "name": "stdout",
          "text": [
            "[[99  0]\n",
            " [ 7  9]]\n"
          ]
        }
      ],
      "source": [
        "x2_sub_copy = x2[:2, :2].copy()\n",
        "print(x2_sub_copy)"
      ]
    },
    {
      "cell_type": "code",
      "execution_count": null,
      "metadata": {
        "id": "GtNYYOe5qaMb",
        "colab": {
          "base_uri": "https://localhost:8080/"
        },
        "outputId": "1a02f86a-e140-4bf6-a1de-17537a55365c"
      },
      "outputs": [
        {
          "output_type": "stream",
          "name": "stdout",
          "text": [
            "[[42  0]\n",
            " [ 7  9]]\n"
          ]
        }
      ],
      "source": [
        "x2_sub_copy[0, 0] = 42\n",
        "print(x2_sub_copy)"
      ]
    },
    {
      "cell_type": "code",
      "execution_count": null,
      "metadata": {
        "id": "e7MCSsi3qaMb",
        "colab": {
          "base_uri": "https://localhost:8080/"
        },
        "outputId": "a1ea4076-ba71-47eb-a4cc-9856c46c6d71"
      },
      "outputs": [
        {
          "output_type": "stream",
          "name": "stdout",
          "text": [
            "[[99  0  3  3]\n",
            " [ 7  9  3  5]\n",
            " [ 2  4  7  6]\n",
            " [ 8  8  1  6]\n",
            " [ 7  7  8  1]]\n"
          ]
        }
      ],
      "source": [
        "print(x2)"
      ]
    },
    {
      "cell_type": "markdown",
      "metadata": {
        "id": "ujejSPYnHRJ2"
      },
      "source": [
        "### Reshaping"
      ]
    },
    {
      "cell_type": "code",
      "execution_count": null,
      "metadata": {
        "id": "RGpuTWaTHRJ2",
        "colab": {
          "base_uri": "https://localhost:8080/"
        },
        "outputId": "a3cf8cb0-76f0-409e-f077-06f0dd41ea68"
      },
      "outputs": [
        {
          "output_type": "stream",
          "name": "stdout",
          "text": [
            "[[1 2 3]\n",
            " [4 5 6]\n",
            " [7 8 9]]\n"
          ]
        }
      ],
      "source": [
        "x4 = np.arange(1, 10).reshape((3, 3))\n",
        "print(x4)"
      ]
    },
    {
      "cell_type": "markdown",
      "metadata": {
        "id": "RU_ETRzWHRJ2"
      },
      "source": [
        "Ten en cuenta que para que esto funcione, el tamaño de la matriz inicial debe coincidir con el tamaño de la matriz rediseñada. Siempre que sea posible, el método `reshape` utilizará una `vista` sin copia de la matriz inicial.\n",
        "\n",
        "Otro patrón de `reshaping `, es la conversión de una matriz unidimensional en una fila o columna de una matriz bidimensional. Esto se puede hacer con el método `reshape`  o más fácilmente haciendo uso de `newaxis` dentro de una operación de división:"
      ]
    },
    {
      "cell_type": "code",
      "execution_count": null,
      "metadata": {
        "id": "b-LEzn0SHRJ3",
        "colab": {
          "base_uri": "https://localhost:8080/"
        },
        "outputId": "dd37e29a-9339-4191-ef80-ce04df6d3150"
      },
      "outputs": [
        {
          "output_type": "execute_result",
          "data": {
            "text/plain": [
              "array([1, 2, 3])"
            ]
          },
          "metadata": {},
          "execution_count": 42
        }
      ],
      "source": [
        "x5 = np.array([1, 2, 3])\n",
        "x5"
      ]
    },
    {
      "cell_type": "code",
      "execution_count": null,
      "metadata": {
        "id": "p4UfmxWjHRJ3",
        "colab": {
          "base_uri": "https://localhost:8080/"
        },
        "outputId": "8d9b725b-d96b-4163-cd2e-6dcb0bb23569"
      },
      "outputs": [
        {
          "output_type": "stream",
          "name": "stdout",
          "text": [
            "Matriz original:\n",
            "[[ 1  2  3  4]\n",
            " [ 5  6  7  8]\n",
            " [ 9 10 11 12]]\n",
            "\n",
            "Vector fila:\n",
            "[[ 1  2  3  4  5  6  7  8  9 10 11 12]]\n"
          ]
        }
      ],
      "source": [
        "# vector fila via reshape\n",
        "# completar\n",
        "import numpy as np\n",
        "\n",
        "# Creamos una matriz de rango 2 con dimensiones (3, 4)\n",
        "matriz = np.array([[1, 2, 3, 4],\n",
        "                   [5, 6, 7, 8],\n",
        "                   [9, 10, 11, 12]])\n",
        "\n",
        "# Convertimos la matriz en un vector fila\n",
        "vector_fila = matriz.reshape(1, -1)\n",
        "\n",
        "# Imprimimimos la matriz original y el vector fila\n",
        "print(\"Matriz original:\")\n",
        "print(matriz)\n",
        "print(\"\\nVector fila:\")\n",
        "print(vector_fila)\n"
      ]
    },
    {
      "cell_type": "code",
      "execution_count": null,
      "metadata": {
        "id": "Pv8bWknUHRJ3",
        "colab": {
          "base_uri": "https://localhost:8080/"
        },
        "outputId": "892ca772-c4ab-41aa-d3c7-9f2a14387227"
      },
      "outputs": [
        {
          "output_type": "stream",
          "name": "stdout",
          "text": [
            "Matriz original:\n",
            "[[ 1  2  3  4]\n",
            " [ 5  6  7  8]\n",
            " [ 9 10 11 12]]\n",
            "\n",
            "Vector fila:\n",
            "[[[ 1  2  3  4]\n",
            "  [ 5  6  7  8]\n",
            "  [ 9 10 11 12]]]\n"
          ]
        }
      ],
      "source": [
        "# vector fila con newaxis\n",
        "# completar\n",
        "import numpy as np\n",
        "\n",
        "# Creamos una matriz de rango 2 con dimensiones (3, 4)\n",
        "matriz = np.array([[1, 2, 3, 4],\n",
        "                   [5, 6, 7, 8],\n",
        "                   [9, 10, 11, 12]])\n",
        "\n",
        "# Creamos un vector fila a partir de la matriz\n",
        "vector_fila = matriz[np.newaxis, :]\n",
        "\n",
        "# Imprimimos la matriz original y el vector fila\n",
        "print(\"Matriz original:\")\n",
        "print(matriz)\n",
        "print(\"\\nVector fila:\")\n",
        "print(vector_fila)\n"
      ]
    },
    {
      "cell_type": "code",
      "execution_count": null,
      "metadata": {
        "id": "Q2pcC_zfHRJ4",
        "colab": {
          "base_uri": "https://localhost:8080/"
        },
        "outputId": "41f8df11-a614-4336-a92e-38999140af08"
      },
      "outputs": [
        {
          "output_type": "stream",
          "name": "stdout",
          "text": [
            "Matriz original:\n",
            "[[ 1  2  3  4]\n",
            " [ 5  6  7  8]\n",
            " [ 9 10 11 12]]\n",
            "\n",
            "Vector columna:\n",
            "[[ 1]\n",
            " [ 2]\n",
            " [ 3]\n",
            " [ 4]\n",
            " [ 5]\n",
            " [ 6]\n",
            " [ 7]\n",
            " [ 8]\n",
            " [ 9]\n",
            " [10]\n",
            " [11]\n",
            " [12]]\n"
          ]
        }
      ],
      "source": [
        "# vector columna via reshape\n",
        "# completar\n",
        "import numpy as np\n",
        "\n",
        "# Creamos una matriz de rango 2 con dimensiones (3, 4)\n",
        "matriz = np.array([[1, 2, 3, 4],\n",
        "                   [5, 6, 7, 8],\n",
        "                   [9, 10, 11, 12]])\n",
        "\n",
        "# Convertimos la matriz en un vector columna\n",
        "vector_columna = matriz.reshape(-1, 1)\n",
        "\n",
        "# Imprimimos la matriz original y el vector columna\n",
        "print(\"Matriz original:\")\n",
        "print(matriz)\n",
        "print(\"\\nVector columna:\")\n",
        "print(vector_columna)\n"
      ]
    },
    {
      "cell_type": "code",
      "execution_count": null,
      "metadata": {
        "id": "HcVHXqr-HRJ4",
        "colab": {
          "base_uri": "https://localhost:8080/"
        },
        "outputId": "205b1dd1-5372-4313-df1c-4b380ba9df56"
      },
      "outputs": [
        {
          "output_type": "stream",
          "name": "stdout",
          "text": [
            "Matriz original:\n",
            "[[ 1  2  3  4]\n",
            " [ 5  6  7  8]\n",
            " [ 9 10 11 12]]\n",
            "\n",
            "Vector columna:\n",
            "[[[ 1  2  3  4]]\n",
            "\n",
            " [[ 5  6  7  8]]\n",
            "\n",
            " [[ 9 10 11 12]]]\n"
          ]
        }
      ],
      "source": [
        "# vector columna con newaxis\n",
        "# completar\n",
        "# Creamos una matriz de rango 2 con dimensiones (3, 4)\n",
        "matriz = np.array([[1, 2, 3, 4],\n",
        "                   [5, 6, 7, 8],\n",
        "                   [9, 10, 11, 12]])\n",
        "\n",
        "# Creamos un vector columna a partir de la matriz\n",
        "vector_columna = matriz[:, np.newaxis]\n",
        "\n",
        "# Imprimimos la matriz original y el vector columna\n",
        "print(\"Matriz original:\")\n",
        "print(matriz)\n",
        "print(\"\\nVector columna:\")\n",
        "print(vector_columna)\n"
      ]
    },
    {
      "cell_type": "markdown",
      "metadata": {
        "collapsed": true,
        "id": "YzFU6QFlHRJ4"
      },
      "source": [
        "### Concatenación y  separación\n"
      ]
    },
    {
      "cell_type": "code",
      "execution_count": null,
      "metadata": {
        "id": "sViXchcIHRJ5",
        "colab": {
          "base_uri": "https://localhost:8080/"
        },
        "outputId": "8a280e18-593a-4668-ebf5-36455638c437"
      },
      "outputs": [
        {
          "output_type": "execute_result",
          "data": {
            "text/plain": [
              "array([4, 5, 6, 7, 8, 9])"
            ]
          },
          "metadata": {},
          "execution_count": 47
        }
      ],
      "source": [
        "x = np.array([4, 5, 6])\n",
        "y = np.array([7, 8, 9])\n",
        "np.concatenate([x, y])"
      ]
    },
    {
      "cell_type": "code",
      "execution_count": null,
      "metadata": {
        "id": "9P1oTO3SHRJ5",
        "colab": {
          "base_uri": "https://localhost:8080/"
        },
        "outputId": "d2eeba21-8b98-4c08-bd96-dc1f4b48839a"
      },
      "outputs": [
        {
          "output_type": "stream",
          "name": "stdout",
          "text": [
            "[ 4  5  6  7  8  9 99 99 99]\n"
          ]
        }
      ],
      "source": [
        "# concatenacion de dos o mas matrices\n",
        "z = [99, 99, 99]\n",
        "print(np.concatenate([x, y, z]))"
      ]
    },
    {
      "cell_type": "code",
      "execution_count": null,
      "metadata": {
        "id": "ExC9DeMgHRJ5",
        "colab": {
          "base_uri": "https://localhost:8080/"
        },
        "outputId": "12137dd4-1a87-4c68-a8b5-a0ca1e0d4cf1"
      },
      "outputs": [
        {
          "output_type": "execute_result",
          "data": {
            "text/plain": [
              "array([[1, 2, 3],\n",
              "       [4, 5, 6],\n",
              "       [1, 2, 3],\n",
              "       [4, 5, 6]])"
            ]
          },
          "metadata": {},
          "execution_count": 46
        }
      ],
      "source": [
        "# concatendo una matriz dos veces\n",
        "grid = np.array([[1, 2, 3],\n",
        "                 [4, 5, 6]])\n",
        "np.concatenate([grid, grid])"
      ]
    },
    {
      "cell_type": "code",
      "execution_count": null,
      "metadata": {
        "id": "JXqPVFAeHRJ6",
        "colab": {
          "base_uri": "https://localhost:8080/"
        },
        "outputId": "9b733bb1-0090-4214-a023-d85ab1ec40cb"
      },
      "outputs": [
        {
          "output_type": "stream",
          "name": "stdout",
          "text": [
            "[[0 1 2]\n",
            " [3 4 5]\n",
            " [6 5 4]]\n"
          ]
        }
      ],
      "source": [
        "x = np.array([0, 1, 2])\n",
        "grid = np.array([[3, 4, 5],\n",
        "                 [6, 5, 4]])\n",
        "\n",
        "# Se junta la matriz de manera vertical\n",
        "# Completar\n",
        "\n",
        "C = np.vstack((x, grid))\n",
        "print(C)\n",
        "\n",
        "\n",
        "\n"
      ]
    },
    {
      "cell_type": "code",
      "execution_count": null,
      "metadata": {
        "id": "tx_sdnkxHRJ7",
        "colab": {
          "base_uri": "https://localhost:8080/"
        },
        "outputId": "3d8c8edc-8736-474b-efee-2c1b04ca57cf"
      },
      "outputs": [
        {
          "output_type": "stream",
          "name": "stdout",
          "text": [
            "[23 23]\n"
          ]
        }
      ],
      "source": [
        "# Se junta la matriz de manera horizontal\n",
        "y = np.array([[23],\n",
        "              [23]])\n",
        "# Completar\n",
        "\n",
        "C = np.hstack((y))\n",
        "print(C)\n",
        "\n",
        "\n"
      ]
    },
    {
      "cell_type": "markdown",
      "metadata": {
        "collapsed": true,
        "id": "0GWOBZtIHRJ7"
      },
      "source": [
        "Lo contrario de la concatenación es la división o separación, que es implementado por las funciones `np.split`, `np.hsplit` y `np.vsplit`. Para cada uno de estas funciones , podemos pasar una lista de índices que dan los puntos de división.\n",
        "\n",
        "Ver:[https://numpy.org/doc/stable/reference/generated/numpy.split.html](https://numpy.org/doc/stable/reference/generated/numpy.split.html)"
      ]
    },
    {
      "cell_type": "code",
      "execution_count": null,
      "metadata": {
        "id": "gkXomQdcHRJ7",
        "colab": {
          "base_uri": "https://localhost:8080/"
        },
        "outputId": "d7a7ec02-bb39-43fb-d216-24f6f18a56a3"
      },
      "outputs": [
        {
          "output_type": "stream",
          "name": "stdout",
          "text": [
            "[1 2 3] [44 95] [3 2 1]\n"
          ]
        }
      ],
      "source": [
        "x = [1, 2, 3, 44, 95, 3, 2, 1]\n",
        "x1, x2, x3 = np.split(x, [3, 5])\n",
        "print(x1, x2, x3)"
      ]
    },
    {
      "cell_type": "code",
      "execution_count": null,
      "metadata": {
        "id": "N3db3D7cHRJ7",
        "colab": {
          "base_uri": "https://localhost:8080/"
        },
        "outputId": "bbb4315b-ba93-43ed-fe2e-a41d479ec4c7"
      },
      "outputs": [
        {
          "output_type": "execute_result",
          "data": {
            "text/plain": [
              "array([[ 0,  1,  2,  3],\n",
              "       [ 4,  5,  6,  7],\n",
              "       [ 8,  9, 10, 11],\n",
              "       [12, 13, 14, 15]])"
            ]
          },
          "metadata": {},
          "execution_count": 59
        }
      ],
      "source": [
        "grid = np.arange(16).reshape((4, 4))\n",
        "grid"
      ]
    },
    {
      "cell_type": "code",
      "execution_count": null,
      "metadata": {
        "id": "-1wFFEyfHRJ8",
        "colab": {
          "base_uri": "https://localhost:8080/"
        },
        "outputId": "0695bbcc-521c-4143-d5d2-b39a872b235d"
      },
      "outputs": [
        {
          "output_type": "stream",
          "name": "stdout",
          "text": [
            "[[0 1 2 3]\n",
            " [4 5 6 7]]\n",
            "[[ 8  9 10 11]\n",
            " [12 13 14 15]]\n"
          ]
        }
      ],
      "source": [
        "grid1, grid2 = np.vsplit(grid, [2])\n",
        "print(grid1)\n",
        "print(grid2)"
      ]
    },
    {
      "cell_type": "code",
      "execution_count": null,
      "metadata": {
        "id": "-QSxKWNJHRJ8",
        "colab": {
          "base_uri": "https://localhost:8080/"
        },
        "outputId": "2e0328ed-8197-43c9-bffe-5ce2f696a7a9"
      },
      "outputs": [
        {
          "output_type": "stream",
          "name": "stdout",
          "text": [
            "[[ 0  1]\n",
            " [ 4  5]\n",
            " [ 8  9]\n",
            " [12 13]]\n",
            "[[ 2  3]\n",
            " [ 6  7]\n",
            " [10 11]\n",
            " [14 15]]\n"
          ]
        }
      ],
      "source": [
        "grid3, grid4 = np.hsplit(grid,[2])\n",
        "print(grid3)\n",
        "print(grid4)"
      ]
    },
    {
      "cell_type": "markdown",
      "metadata": {
        "id": "tHP4XmEoHRKJ"
      },
      "source": [
        "### Fancy\n"
      ]
    },
    {
      "cell_type": "code",
      "execution_count": null,
      "metadata": {
        "id": "p8Sk55iPHRKK",
        "colab": {
          "base_uri": "https://localhost:8080/"
        },
        "outputId": "c1581c00-9442-441c-acec-206d4e96305d"
      },
      "outputs": [
        {
          "output_type": "stream",
          "name": "stdout",
          "text": [
            "[51 92 14 71 60 20 82 86 74 74]\n"
          ]
        }
      ],
      "source": [
        "rand = np.random.RandomState(42)\n",
        "x = rand.randint(100, size=10)\n",
        "print(x)"
      ]
    },
    {
      "cell_type": "code",
      "execution_count": null,
      "metadata": {
        "id": "WnihK-M2HRKM",
        "colab": {
          "base_uri": "https://localhost:8080/"
        },
        "outputId": "03da4ce5-8ae1-4068-89b4-6ce72d02338d"
      },
      "outputs": [
        {
          "output_type": "execute_result",
          "data": {
            "text/plain": [
              "[92, 20, 14]"
            ]
          },
          "metadata": {},
          "execution_count": 63
        }
      ],
      "source": [
        "# Accedemos a tres elementos diferentes\n",
        "[x[1], x[5], x[2]]"
      ]
    },
    {
      "cell_type": "markdown",
      "metadata": {
        "id": "avs1AUSlHRKN"
      },
      "source": [
        "Alternativamente, podemos pasar una sola lista o matriz de índices para obtener el mismo resultado:"
      ]
    },
    {
      "cell_type": "code",
      "execution_count": null,
      "metadata": {
        "id": "buKD93QUHRKN",
        "colab": {
          "base_uri": "https://localhost:8080/"
        },
        "outputId": "89330739-9b06-4d1b-f2c5-88301c151ac0"
      },
      "outputs": [
        {
          "output_type": "stream",
          "name": "stdout",
          "text": [
            "[92 20 14]\n"
          ]
        }
      ],
      "source": [
        "# Completar\n",
        "# Creamos el arreglo x\n",
        "x = np.array([11, 92, 33, 20, 71, 14])\n",
        "\n",
        "# Creamos una matriz de índices para seleccionar los elementos deseados\n",
        "indices = np.array([1, 3, 5])\n",
        "\n",
        "# Utilizamos la matriz de índices para seleccionar los elementos de x\n",
        "seleccion = x[indices]\n",
        "\n",
        "# Imprimimos la selección resultante\n",
        "print(seleccion)\n",
        "\n"
      ]
    },
    {
      "cell_type": "markdown",
      "metadata": {
        "id": "pIU1Q9zyHRKO"
      },
      "source": [
        "Cuando se utiliza fancy, la forma del resultado refleja la forma de las matrices de índice en lugar de la forma de la matriz que se indexa y trabaja  en múltiples  dimensiones:"
      ]
    },
    {
      "cell_type": "code",
      "execution_count": null,
      "metadata": {
        "id": "u4Baonx_HRKO",
        "colab": {
          "base_uri": "https://localhost:8080/"
        },
        "outputId": "a5d31cdb-bb9e-445c-8b61-da952798484b"
      },
      "outputs": [
        {
          "output_type": "stream",
          "name": "stdout",
          "text": [
            "[[[[[5 6 6]\n",
            "    [7 9 5]\n",
            "    [2 5 9]]\n",
            "\n",
            "   [[6 5 5]\n",
            "    [7 5 5]\n",
            "    [4 5 5]]]\n",
            "\n",
            "\n",
            "  [[[2 2 8]\n",
            "    [4 7 8]\n",
            "    [3 1 4]]\n",
            "\n",
            "   [[6 5 5]\n",
            "    [7 5 5]\n",
            "    [4 5 5]]]]\n",
            "\n",
            "\n",
            "\n",
            " [[[[2 2 8]\n",
            "    [4 7 8]\n",
            "    [3 1 4]]\n",
            "\n",
            "   [[5 6 6]\n",
            "    [7 9 5]\n",
            "    [2 5 9]]]\n",
            "\n",
            "\n",
            "  [[[6 5 5]\n",
            "    [7 5 5]\n",
            "    [4 5 5]]\n",
            "\n",
            "   [[2 2 8]\n",
            "    [4 7 8]\n",
            "    [3 1 4]]]]\n",
            "\n",
            "\n",
            "\n",
            " [[[[6 5 5]\n",
            "    [7 5 5]\n",
            "    [4 5 5]]\n",
            "\n",
            "   [[2 2 8]\n",
            "    [4 7 8]\n",
            "    [3 1 4]]]\n",
            "\n",
            "\n",
            "  [[[5 6 6]\n",
            "    [7 9 5]\n",
            "    [2 5 9]]\n",
            "\n",
            "   [[5 6 6]\n",
            "    [7 9 5]\n",
            "    [2 5 9]]]]]\n",
            "(3, 2, 2, 3, 3)\n"
          ]
        }
      ],
      "source": [
        "# Completar\n",
        "# Creamos la matriz M\n",
        "M = np.random.randint(1, 10, size=(3, 3, 3))\n",
        "\n",
        "# Creamos una matriz de índices para seleccionar los elementos deseados\n",
        "indices = np.array([[[0, 2], [1, 2]],\n",
        "                    [[1, 0], [2, 1]],\n",
        "                    [[2, 1], [0, 0]]])\n",
        "\n",
        "# Utilizamos la matriz de índices para seleccionar los elementos de M\n",
        "seleccion = M[indices]\n",
        "\n",
        "# Imprimimos la selección resultante\n",
        "print(seleccion)\n",
        "print(seleccion.shape)\n"
      ]
    },
    {
      "cell_type": "code",
      "execution_count": 2,
      "metadata": {
        "id": "QFPQLUylHRKO",
        "colab": {
          "base_uri": "https://localhost:8080/",
          "height": 183
        },
        "outputId": "b7224915-417d-4a4b-9e68-8ce30cf7e612"
      },
      "outputs": [
        {
          "output_type": "error",
          "ename": "NameError",
          "evalue": "ignored",
          "traceback": [
            "\u001b[0;31m---------------------------------------------------------------------------\u001b[0m",
            "\u001b[0;31mNameError\u001b[0m                                 Traceback (most recent call last)",
            "\u001b[0;32m<ipython-input-2-da6a8c5d5ffb>\u001b[0m in \u001b[0;36m<cell line: 1>\u001b[0;34m()\u001b[0m\n\u001b[0;32m----> 1\u001b[0;31m \u001b[0mX\u001b[0m \u001b[0;34m=\u001b[0m \u001b[0mnp\u001b[0m\u001b[0;34m.\u001b[0m\u001b[0marange\u001b[0m\u001b[0;34m(\u001b[0m\u001b[0;36m12\u001b[0m\u001b[0;34m)\u001b[0m\u001b[0;34m.\u001b[0m\u001b[0mreshape\u001b[0m\u001b[0;34m(\u001b[0m\u001b[0;34m(\u001b[0m\u001b[0;36m3\u001b[0m\u001b[0;34m,\u001b[0m \u001b[0;36m4\u001b[0m\u001b[0;34m)\u001b[0m\u001b[0;34m)\u001b[0m\u001b[0;34m\u001b[0m\u001b[0;34m\u001b[0m\u001b[0m\n\u001b[0m\u001b[1;32m      2\u001b[0m \u001b[0mX\u001b[0m\u001b[0;34m\u001b[0m\u001b[0;34m\u001b[0m\u001b[0m\n",
            "\u001b[0;31mNameError\u001b[0m: name 'np' is not defined"
          ]
        }
      ],
      "source": [
        "X = np.arange(12).reshape((3, 4))\n",
        "X"
      ]
    },
    {
      "cell_type": "markdown",
      "metadata": {
        "id": "BbqZMwVKHRKP"
      },
      "source": [
        "Al igual que con la indexación estándar, el primer índice se refiere a la fila, y el segundo a la columna:"
      ]
    },
    {
      "cell_type": "code",
      "execution_count": null,
      "metadata": {
        "id": "JOmJykqdHRKP",
        "colab": {
          "base_uri": "https://localhost:8080/"
        },
        "outputId": "1ae3849b-f6ff-41c2-9b12-542975e308de"
      },
      "outputs": [
        {
          "output_type": "execute_result",
          "data": {
            "text/plain": [
              "array([ 2,  5, 11])"
            ]
          },
          "metadata": {},
          "execution_count": 86
        }
      ],
      "source": [
        "fila = np.array([0, 1, 2])\n",
        "col = np.array([2, 1, 3])\n",
        "X[fila, col]"
      ]
    },
    {
      "cell_type": "markdown",
      "metadata": {
        "id": "5UbI7MM1HRKP"
      },
      "source": [
        "Observa que el primer valor en el resultado es `X[0, 2]`, el segundo es `X[1, 1]`  y el tercero es `X[2, 3]`. El emparejamiento de índices en la indexación fancy  sigue todas las reglas del broadcasting, por ejemplo, si combinamos un vector de columna y un vector de fila dentro de los índices, obtenemos un resultado bidimensional:"
      ]
    },
    {
      "cell_type": "code",
      "execution_count": null,
      "metadata": {
        "id": "ZHaBvrvmHRKQ",
        "colab": {
          "base_uri": "https://localhost:8080/"
        },
        "outputId": "b815ac40-0f04-43ac-8caf-ac59a25a7f4b"
      },
      "outputs": [
        {
          "output_type": "stream",
          "name": "stdout",
          "text": [
            "[ 3  6 12]\n"
          ]
        }
      ],
      "source": [
        "# Completar\n",
        "# Creamos el arreglo X\n",
        "X = np.array([[1, 2, 3, 4],\n",
        "              [5, 6, 7, 8],\n",
        "              [9, 10, 11, 12]])\n",
        "\n",
        "# Creamos vectores de índices para seleccionar la diagonal principal\n",
        "filas = np.array([0, 1, 2])\n",
        "columnas = np.array([2, 1, 3])\n",
        "\n",
        "# Utilizamos los vectores de índices para seleccionar los elementos de X\n",
        "seleccion = X[filas, columnas]\n",
        "\n",
        "# Imprimimos la selección resultante\n",
        "print(seleccion)\n"
      ]
    },
    {
      "cell_type": "markdown",
      "metadata": {
        "id": "UY1C8fh7HRKQ"
      },
      "source": [
        "Aquí, cada valor de fila se empareja con cada vector de columna, exactamente como se hace en broadcasting  de operaciones aritméticas. Por ejemplo:"
      ]
    },
    {
      "cell_type": "code",
      "execution_count": null,
      "metadata": {
        "id": "WlT7nSHMHRKQ",
        "colab": {
          "base_uri": "https://localhost:8080/"
        },
        "outputId": "c1131422-d7a7-4343-96ff-05a226ea7ce4"
      },
      "outputs": [
        {
          "output_type": "stream",
          "name": "stdout",
          "text": [
            "[[33 44]\n",
            " [77 88]]\n"
          ]
        }
      ],
      "source": [
        "# Completar\n",
        "# Creamos la matriz M\n",
        "M = np.array([[11, 22, 33, 44],\n",
        "              [55, 66, 77, 88],\n",
        "              [99, 101, 111, 121]])\n",
        "\n",
        "# Creamos las matrices de índices para seleccionar los elementos desead\n",
        "filas = np.array([[0], [1]])\n",
        "columnas = np.array([[2, 3]])\n",
        "\n",
        "# Utilizamos las matrices de índices para seleccionar los elementos de M\n",
        "seleccion = M[filas, columnas]\n",
        "\n",
        "# Imprimimos la selección resultante\n",
        "print(seleccion)\n"
      ]
    },
    {
      "cell_type": "markdown",
      "metadata": {
        "id": "3UA5Ps0cHRKd"
      },
      "source": [
        "Siempre es importante recordar que en  la indexación fancy, el valor de retorno refleja la forma del broadcasting  de los índices, en lugar de la forma de la matriz que se indexa."
      ]
    },
    {
      "cell_type": "markdown",
      "metadata": {
        "id": "QN9wN13cHRKd"
      },
      "source": [
        "Para operaciones  más potentes, la indexación adornada se puede combinar con los otros esquemas de indexación que existen:"
      ]
    },
    {
      "cell_type": "code",
      "execution_count": null,
      "metadata": {
        "id": "p_gbcz40HRKe",
        "colab": {
          "base_uri": "https://localhost:8080/"
        },
        "outputId": "f603b367-e41c-42f3-d595-5caa1bfbcb08"
      },
      "outputs": [
        {
          "output_type": "stream",
          "name": "stdout",
          "text": [
            "[[1 0 3]\n",
            " [0 5 0]\n",
            " [7 0 9]]\n"
          ]
        }
      ],
      "source": [
        "# print(X)\n",
        "# Creamos el arreglo A\n",
        "A = np.array([[1, -2, 3], [-4, 5, -6], [7, -8, 9]])\n",
        "\n",
        "# Seleccionamos los elementos negativos de A utilizando la indexación booleana\n",
        "negativos = A < 0\n",
        "\n",
        "# Establecemos los elementos negativos de A en cero utilizando la indexación avanzada\n",
        "A[negativos] = 0\n",
        "\n",
        "# Imprimimos el arreglo A resultante\n",
        "print(A)\n"
      ]
    },
    {
      "cell_type": "code",
      "execution_count": null,
      "metadata": {
        "id": "BZcspK2-HRKe",
        "colab": {
          "base_uri": "https://localhost:8080/"
        },
        "outputId": "1008f7b5-be99-446f-8e0c-edacd551da73"
      },
      "outputs": [
        {
          "output_type": "stream",
          "name": "stdout",
          "text": [
            "[[ 2  3  4]\n",
            " [12 13 14]]\n"
          ]
        }
      ],
      "source": [
        "# Combinando el indexado fancy y el recorte\n",
        "# Completar\n",
        "# Creamos un array 2D de forma (3, 5)\n",
        "arr = np.array([[1, 2, 3, 4, 5],\n",
        "                [6, 7, 8, 9, 10],\n",
        "                [11, 12, 13, 14, 15]])\n",
        "\n",
        "# Seleccionamos las filas 0 y 2, y las columnas 1 y 3 utilizando indexado fancy y recorte\n",
        "result = arr[[0, 2], 1:4]\n",
        "\n",
        "# Imprimimos el resultado\n",
        "print(result)\n"
      ]
    },
    {
      "cell_type": "markdown",
      "metadata": {
        "id": "O1T_gLwoHRKf"
      },
      "source": [
        "Así como el fancy  se puede utilizar para acceder a partes de una matriz, también se puede utilizar para modificar partes de una matriz. Por ejemplo, si  tenemos una matriz de índices y nos gustaría establecer los elementos correspondientes en una matriz a algún valor, podemos hacer lo siguiente:"
      ]
    },
    {
      "cell_type": "code",
      "execution_count": null,
      "metadata": {
        "id": "ye2LR3_qHRKf",
        "colab": {
          "base_uri": "https://localhost:8080/"
        },
        "outputId": "7f007365-6ccc-47fa-f21f-147a962869c4"
      },
      "outputs": [
        {
          "output_type": "stream",
          "name": "stdout",
          "text": [
            "[ 0 99 99  3 99  5  6  7 99  9]\n"
          ]
        }
      ],
      "source": [
        "x = np.arange(10)\n",
        "i = np.array([2, 1, 8, 4])\n",
        "x[i] = 99\n",
        "print(x)"
      ]
    },
    {
      "cell_type": "markdown",
      "metadata": {
        "id": "R7FOcHtwHRKg"
      },
      "source": [
        "Los índices repetidos con estas operaciones pueden causar algunos resultados potencialmente inesperados. Considera lo siguiente:"
      ]
    },
    {
      "cell_type": "code",
      "execution_count": null,
      "metadata": {
        "id": "Ja7j27ctHRKg",
        "colab": {
          "base_uri": "https://localhost:8080/"
        },
        "outputId": "3904c265-13f8-49d8-c90f-942a68adaa10"
      },
      "outputs": [
        {
          "output_type": "stream",
          "name": "stdout",
          "text": [
            "[6. 0. 0. 0. 0. 0. 0. 0. 0. 0.]\n"
          ]
        }
      ],
      "source": [
        "x = np.zeros(10)\n",
        "x[[0, 0]] = [4, 6]\n",
        "print(x)"
      ]
    },
    {
      "cell_type": "markdown",
      "metadata": {
        "collapsed": true,
        "id": "O3wLVTgBHRKg"
      },
      "source": [
        "El resultado de esta operación es asignar primero  `x[0] = 4`, seguido por `x[0] = 6`. Pero el resultado es que `x[0]` contiene el valor 6.\n",
        "\n",
        "Considera la siguiente operación:"
      ]
    },
    {
      "cell_type": "code",
      "execution_count": null,
      "metadata": {
        "id": "9Y9isBdeHRKg",
        "colab": {
          "base_uri": "https://localhost:8080/"
        },
        "outputId": "d6171325-a84d-411d-f448-9a91ef8e0e57"
      },
      "outputs": [
        {
          "output_type": "execute_result",
          "data": {
            "text/plain": [
              "array([6., 0., 1., 1., 1., 0., 0., 0., 0., 0.])"
            ]
          },
          "metadata": {},
          "execution_count": 99
        }
      ],
      "source": [
        "i = [2, 3, 3, 4, 4, 4]\n",
        "x[i] += 1\n",
        "x"
      ]
    },
    {
      "cell_type": "markdown",
      "metadata": {
        "id": "fLCn40UwHRKh"
      },
      "source": [
        "En este caso algún resultado inesperado se debe conceptualmente  a que `x[i] +=1` se entiende como una abreviatura de `x[i] = x [i] + 1`. Cuando `x[i] + 1` es evaluado el resultado es asignado  a los índices en `x` . Con esto en mente, no es que el aumento que ocurre varias veces, sino la asignación, que conduce a los resultados  no intuitivos.\n",
        "\n",
        "Si queremos  el otro comportamiento donde se repite la operación, se puede utilizar el método `at()` de `ufuncs`:"
      ]
    },
    {
      "cell_type": "code",
      "execution_count": null,
      "metadata": {
        "id": "3rahnE5wHRKi",
        "colab": {
          "base_uri": "https://localhost:8080/"
        },
        "outputId": "f91a9232-b652-47ff-f6dd-23b228c048b4"
      },
      "outputs": [
        {
          "output_type": "stream",
          "name": "stdout",
          "text": [
            "[0. 0. 0. 0. 0.]\n",
            "[0. 0. 1. 2. 3.]\n"
          ]
        }
      ],
      "source": [
        "# Completar\n",
        "# Creamos un array unidimensional de forma (5,)\n",
        "x = np.zeros(5)\n",
        "print(x)\n",
        "\n",
        "# Definimos los índices\n",
        "i = [2, 3, 3,4, 4, 4]\n",
        "\n",
        "# Utilizamos at() para agregar 1 a los elementos correspondientes\n",
        "np.add.at(x, i, 1)\n",
        "print(x)\n"
      ]
    },
    {
      "cell_type": "markdown",
      "metadata": {
        "id": "0rziizOtHRKj"
      },
      "source": [
        "El método `at()` realiza una aplicación  del operador dado en los índices especificados (aquí, `i`) con el valor especificado (aquí, `1`)."
      ]
    },
    {
      "cell_type": "markdown",
      "metadata": {
        "id": "17TwhqScqaMm"
      },
      "source": [
        "###  Expresiones vectorizadas"
      ]
    },
    {
      "cell_type": "markdown",
      "metadata": {
        "id": "3QMUpEcqqaMn"
      },
      "source": [
        "### Agregaciones\n"
      ]
    },
    {
      "cell_type": "code",
      "execution_count": null,
      "metadata": {
        "id": "MLhcZaakqaMn",
        "colab": {
          "base_uri": "https://localhost:8080/"
        },
        "outputId": "e998bef9-2df4-4db5-eaf7-75dd3ed04cdd"
      },
      "outputs": [
        {
          "output_type": "execute_result",
          "data": {
            "text/plain": [
              "49.87118308796345"
            ]
          },
          "metadata": {},
          "execution_count": 101
        }
      ],
      "source": [
        "L = np.random.random(100)\n",
        "sum(L)"
      ]
    },
    {
      "cell_type": "markdown",
      "metadata": {
        "id": "0Y_nOzbsqaMn"
      },
      "source": [
        "La sintaxis es bastante similar a la función de `sum` de  `NumPy`  y el resultado es el mismo en el caso más simple:"
      ]
    },
    {
      "cell_type": "code",
      "execution_count": null,
      "metadata": {
        "id": "WXgGIcQSqaMn",
        "colab": {
          "base_uri": "https://localhost:8080/"
        },
        "outputId": "9e7628f5-8cb2-41f6-a907-e50c238ab1fe"
      },
      "outputs": [
        {
          "output_type": "execute_result",
          "data": {
            "text/plain": [
              "49.871183087963466"
            ]
          },
          "metadata": {},
          "execution_count": 102
        }
      ],
      "source": [
        "np.sum(L)"
      ]
    },
    {
      "cell_type": "markdown",
      "metadata": {
        "id": "7FhCoi_JqaMn"
      },
      "source": [
        "Sin embargo, debido a que la operación se ejecuta  en código compilado, la versión `NumPy` de la operación se calcula mucho más rápidamente:"
      ]
    },
    {
      "cell_type": "code",
      "execution_count": null,
      "metadata": {
        "id": "L1FKgXK_qaMn",
        "colab": {
          "base_uri": "https://localhost:8080/"
        },
        "outputId": "65aed071-1a56-485f-e28b-649381b8e046"
      },
      "outputs": [
        {
          "output_type": "stream",
          "name": "stdout",
          "text": [
            "80.9 ms ± 17.2 ms per loop (mean ± std. dev. of 7 runs, 10 loops each)\n",
            "221 µs ± 3.95 µs per loop (mean ± std. dev. of 7 runs, 1000 loops each)\n"
          ]
        }
      ],
      "source": [
        "matriz_grande = np.random.rand(1000000)\n",
        "%timeit sum(matriz_grande)\n",
        "%timeit np.sum(matriz_grande)"
      ]
    },
    {
      "cell_type": "markdown",
      "metadata": {
        "id": "7I3yj7HrqaMn"
      },
      "source": [
        "La función `sum` y la función `np.sum` no son idénticas, lo que a veces puede conducir a la confusión.  En particular, sus argumentos opcionales tienen significados diferentes  y `np.sum` es válido a  varias dimensiones de una matriz."
      ]
    },
    {
      "cell_type": "code",
      "execution_count": null,
      "metadata": {
        "id": "46tC54BJqaMn",
        "colab": {
          "base_uri": "https://localhost:8080/"
        },
        "outputId": "6c84d7d3-92ad-4641-ccb7-7ef7576ca068"
      },
      "outputs": [
        {
          "output_type": "execute_result",
          "data": {
            "text/plain": [
              "(1.4057692298008462e-06, 0.9999994392723005)"
            ]
          },
          "metadata": {},
          "execution_count": 104
        }
      ],
      "source": [
        "# Otras funciones min y max\n",
        "min(matriz_grande), max(matriz_grande)"
      ]
    },
    {
      "cell_type": "code",
      "execution_count": null,
      "metadata": {
        "id": "RcZyNPFzqaMn",
        "colab": {
          "base_uri": "https://localhost:8080/"
        },
        "outputId": "d8a6acaf-b701-457a-89e3-e481626da4da"
      },
      "outputs": [
        {
          "output_type": "stream",
          "name": "stdout",
          "text": [
            "58.9 ms ± 14.3 ms per loop (mean ± std. dev. of 7 runs, 10 loops each)\n",
            "156 µs ± 14.5 µs per loop (mean ± std. dev. of 7 runs, 10000 loops each)\n"
          ]
        }
      ],
      "source": [
        "%timeit min(matriz_grande)\n",
        "%timeit np.min(matriz_grande)"
      ]
    },
    {
      "cell_type": "markdown",
      "metadata": {
        "id": "FKC12DzRqaMn"
      },
      "source": [
        "Todas estas funciones también están disponibles como métodos en la clase `ndarray`. Por ejemplo, `np.mean(data)` y `data.mean()` en el ejemplo siguiente son equivalentes:"
      ]
    },
    {
      "cell_type": "code",
      "execution_count": null,
      "metadata": {
        "id": "ubeb597jqaMn",
        "colab": {
          "base_uri": "https://localhost:8080/"
        },
        "outputId": "f7894a1d-5ef7-4147-8b51-9016aef92e33"
      },
      "outputs": [
        {
          "output_type": "execute_result",
          "data": {
            "text/plain": [
              "-0.06894667043593614"
            ]
          },
          "metadata": {},
          "execution_count": 106
        }
      ],
      "source": [
        "data = np.random.normal(size=(15, 15))\n",
        "np.mean(data)"
      ]
    },
    {
      "cell_type": "code",
      "execution_count": null,
      "metadata": {
        "id": "otNwU7ucqaMn",
        "colab": {
          "base_uri": "https://localhost:8080/"
        },
        "outputId": "786c8b72-97a9-4c78-85a9-90ef79c4b5ac"
      },
      "outputs": [
        {
          "output_type": "execute_result",
          "data": {
            "text/plain": [
              "-0.06894667043593614"
            ]
          },
          "metadata": {},
          "execution_count": 107
        }
      ],
      "source": [
        "data.mean()"
      ]
    },
    {
      "cell_type": "markdown",
      "metadata": {
        "id": "AK90lEACqaMn"
      },
      "source": [
        "Un tipo común de operación de agregación es un agregado a lo largo de una fila o columna."
      ]
    },
    {
      "cell_type": "code",
      "execution_count": null,
      "metadata": {
        "id": "s_Z0q4xHqaMo",
        "colab": {
          "base_uri": "https://localhost:8080/"
        },
        "outputId": "dfb7e3b9-df64-4ade-a037-51b2896e3e9e"
      },
      "outputs": [
        {
          "output_type": "stream",
          "name": "stdout",
          "text": [
            "[[0.7431704  0.33648981 0.42912009 0.34240403 0.43040911 0.26709909]\n",
            " [0.70367173 0.83609737 0.46231647 0.16358529 0.4440329  0.79776349]\n",
            " [0.67802512 0.34926343 0.71554817 0.25321888 0.16868404 0.04489656]\n",
            " [0.61891858 0.49504518 0.03314925 0.60845321 0.84614545 0.98757787]\n",
            " [0.03661156 0.53902052 0.90030925 0.58619978 0.45565586 0.31541723]]\n"
          ]
        }
      ],
      "source": [
        "M = np.random.random((5, 6))\n",
        "print(M)"
      ]
    },
    {
      "cell_type": "markdown",
      "metadata": {
        "id": "9q0RaQs4qaMo"
      },
      "source": [
        "De forma predeterminada, cada función de agregación de  `NumPy`  devolverá el agregado sobre toda la matriz:"
      ]
    },
    {
      "cell_type": "code",
      "execution_count": null,
      "metadata": {
        "id": "Mvn_GqRDqaMo",
        "colab": {
          "base_uri": "https://localhost:8080/"
        },
        "outputId": "8e30185f-f083-4b38-c791-b4d99be71d63"
      },
      "outputs": [
        {
          "output_type": "execute_result",
          "data": {
            "text/plain": [
              "14.588299708662056"
            ]
          },
          "metadata": {},
          "execution_count": 109
        }
      ],
      "source": [
        "M.sum()"
      ]
    },
    {
      "cell_type": "markdown",
      "metadata": {
        "id": "vk6BEGcBqaMo"
      },
      "source": [
        "Las funciones de agregación toman un argumento adicional que especifica el eje a lo largo del cual se calcula el agregado. Por ejemplo, podemos encontrar el valor de la suma y el  mínimo de cada columna especificando `axis = 0`:"
      ]
    },
    {
      "cell_type": "code",
      "execution_count": null,
      "metadata": {
        "id": "m45aeskcqaMp",
        "colab": {
          "base_uri": "https://localhost:8080/"
        },
        "outputId": "d0082b17-6769-4a86-b2ba-30d573aacad8"
      },
      "outputs": [
        {
          "output_type": "execute_result",
          "data": {
            "text/plain": [
              "array([2.78039738, 2.55591632, 2.54044322, 1.95386119, 2.34492737,\n",
              "       2.41275424])"
            ]
          },
          "metadata": {},
          "execution_count": 112
        }
      ],
      "source": [
        "M.sum(axis= 0)"
      ]
    },
    {
      "cell_type": "code",
      "execution_count": null,
      "metadata": {
        "id": "7hcqoOstqaMp",
        "colab": {
          "base_uri": "https://localhost:8080/"
        },
        "outputId": "ebcded53-33db-4976-8a51-3642561cf7fd"
      },
      "outputs": [
        {
          "output_type": "execute_result",
          "data": {
            "text/plain": [
              "(10, 15)"
            ]
          },
          "metadata": {},
          "execution_count": 111
        }
      ],
      "source": [
        "data = np.random.normal(size=(5, 10, 15))\n",
        "data.sum(axis=0).shape"
      ]
    },
    {
      "cell_type": "code",
      "execution_count": null,
      "metadata": {
        "id": "Rp1FO9UoqaMp",
        "colab": {
          "base_uri": "https://localhost:8080/"
        },
        "outputId": "aa17c9ee-73d3-46e6-fc33-fd269ef1e615"
      },
      "outputs": [
        {
          "output_type": "execute_result",
          "data": {
            "text/plain": [
              "(10,)"
            ]
          },
          "metadata": {},
          "execution_count": 113
        }
      ],
      "source": [
        "data.sum(axis=(0, 2)).shape"
      ]
    },
    {
      "cell_type": "code",
      "execution_count": null,
      "metadata": {
        "id": "aD18Ek0-qaMp",
        "colab": {
          "base_uri": "https://localhost:8080/"
        },
        "outputId": "60c00d95-e9fe-47ef-ea08-939366ba8fee"
      },
      "outputs": [
        {
          "output_type": "execute_result",
          "data": {
            "text/plain": [
              "-2.373372991046516"
            ]
          },
          "metadata": {},
          "execution_count": 114
        }
      ],
      "source": [
        "data.sum()"
      ]
    },
    {
      "cell_type": "markdown",
      "metadata": {
        "id": "2m9jJXUYqaMp"
      },
      "source": [
        "Algunas funciones de agregación en `Numpy ` son :\n",
        "\n",
        "\n",
        "|Nombre de funcion  | VersionNaN-safe     | Descripcion                                   |\n",
        "|-------------------|---------------------|-----------------------------------------------|\n",
        "| ``np.sum``        | ``np.nansum``       | Calcula suma de elementos                     |\n",
        "| ``np.prod``       | ``np.nanprod``      | Calcula el producto de elementos              |\n",
        "| ``np.mean``       | ``np.nanmean``      | Calcula la media de elementos                 |\n",
        "| ``np.std``        | ``np.nanstd``       | Calcula la desviacion estandar                |\n",
        "| ``np.var``        | ``np.nanvar``       | Calcula la  varianza                          |\n",
        "| ``np.min``        | ``np.nanmin``       | Encuentra el minimo valor                     |\n",
        "| ``np.max``        | ``np.nanmax``       | Encuentra el maximo valor                     |\n",
        "| ``np.argmin``     | ``np.nanargmin``    | Encuenta el index del minimo valor            |\n",
        "| ``np.argmax``     | ``np.nanargmax``    | Encuentra el index del maximo valor           |\n",
        "| ``np.median``     | ``np.nanmedian``    | Calcula la mediana de elementos               |\n",
        "| ``np.percentile`` | ``np.nanpercentile``| Calcula el rango estatistico de elementos     |\n",
        "| ``np.any``        | N/A                 | Evalua si algun elemento es true              |\n",
        "| ``np.all``        | N/A                 | Evalua si todos los elementos son true        |\n",
        "\n"
      ]
    },
    {
      "cell_type": "markdown",
      "metadata": {
        "id": "2Sf0e5STqaMp"
      },
      "source": [
        "#### Broadcasting\n"
      ]
    },
    {
      "cell_type": "code",
      "execution_count": null,
      "metadata": {
        "id": "5Fm9Ue4dqaMp",
        "colab": {
          "base_uri": "https://localhost:8080/"
        },
        "outputId": "313f76c7-1ddf-4a07-ba36-c91ebc535bb4"
      },
      "outputs": [
        {
          "output_type": "execute_result",
          "data": {
            "text/plain": [
              "array([2, 7, 3])"
            ]
          },
          "metadata": {},
          "execution_count": 115
        }
      ],
      "source": [
        "a = np.array([0, 1, 2])\n",
        "b = np.array([2, 6, 1])\n",
        "a + b"
      ]
    },
    {
      "cell_type": "markdown",
      "metadata": {
        "id": "8eGn-GPsqaMq"
      },
      "source": [
        "El  `broadcasting` permite que estos tipos de operaciones binarias se realicen en matrices de diferentes tamaños; por ejemplo, podemos añadir  un escalar (una matriz de dimensión cero) a una matriz:"
      ]
    },
    {
      "cell_type": "code",
      "execution_count": null,
      "metadata": {
        "id": "OEK6G1FPqaMq",
        "colab": {
          "base_uri": "https://localhost:8080/"
        },
        "outputId": "f7309a29-c70c-4893-a401-0aef5f3d11f5"
      },
      "outputs": [
        {
          "output_type": "execute_result",
          "data": {
            "text/plain": [
              "array([5, 6, 7])"
            ]
          },
          "metadata": {},
          "execution_count": 116
        }
      ],
      "source": [
        "a + 5\n"
      ]
    },
    {
      "cell_type": "markdown",
      "metadata": {
        "id": "9ejWt-p-qaMq"
      },
      "source": [
        "Podemos extender de manera similar esto a matrices de mayor dimensión. Veamos el resultado cuando agregamos una matriz unidimensional a una matriz bidimensional:"
      ]
    },
    {
      "cell_type": "code",
      "execution_count": null,
      "metadata": {
        "id": "sWyguM0TqaMq",
        "colab": {
          "base_uri": "https://localhost:8080/"
        },
        "outputId": "8aa482bc-851b-46a6-944b-88786877fff9"
      },
      "outputs": [
        {
          "output_type": "execute_result",
          "data": {
            "text/plain": [
              "array([[ 0,  1,  2,  3],\n",
              "       [ 4,  5,  6,  7],\n",
              "       [ 8,  9, 10, 11],\n",
              "       [12, 13, 14, 15]])"
            ]
          },
          "metadata": {},
          "execution_count": 117
        }
      ],
      "source": [
        "A = np.arange(16).reshape(4, 4)\n",
        "b = np.arange(4)\n",
        "A"
      ]
    },
    {
      "cell_type": "code",
      "execution_count": null,
      "metadata": {
        "id": "6s2ja74PqaMr",
        "colab": {
          "base_uri": "https://localhost:8080/"
        },
        "outputId": "b7cc5562-af91-41de-95f2-506969eabd5b"
      },
      "outputs": [
        {
          "output_type": "execute_result",
          "data": {
            "text/plain": [
              "array([[ 0,  2,  4,  6],\n",
              "       [ 4,  6,  8, 10],\n",
              "       [ 8, 10, 12, 14],\n",
              "       [12, 14, 16, 18]])"
            ]
          },
          "metadata": {},
          "execution_count": 119
        }
      ],
      "source": [
        "A + b"
      ]
    },
    {
      "cell_type": "markdown",
      "metadata": {
        "id": "UZHfVQEAqaMr"
      },
      "source": [
        "Podemos aplicar el  `broadcasting` en dos matrices. Considere el siguiente ejemplo:"
      ]
    },
    {
      "cell_type": "code",
      "execution_count": null,
      "metadata": {
        "id": "FgFkSWCRqaMr",
        "colab": {
          "base_uri": "https://localhost:8080/"
        },
        "outputId": "f426da6e-825a-4b0f-f36d-400a17dbbecb"
      },
      "outputs": [
        {
          "output_type": "stream",
          "name": "stdout",
          "text": [
            "[[ 1.  1.  1.]\n",
            " [ 5.  5.  5.]\n",
            " [25. 25. 25.]]\n"
          ]
        }
      ],
      "source": [
        "# Completar\n",
        "# Crear una matriz 3x3 con valores de 5\n",
        "A = 5 * np.ones((3, 3))\n",
        "\n",
        "# Crear una matriz 1D con valores de 0 a 2\n",
        "B = np.array([0, 1, 2])\n",
        "\n",
        "# Elevar la matriz A a la potencia de los valores de la matriz B usando broadcasting\n",
        "C = A ** B[:, np.newaxis]\n",
        "\n",
        "# Imprimir el resultado\n",
        "print(C)\n",
        "\n"
      ]
    },
    {
      "cell_type": "markdown",
      "metadata": {
        "id": "44rabvtDqaMs"
      },
      "source": [
        "###  Regla del broadcasting\n",
        "\n",
        "El `broadcasting` en `NumPy` sigue un estricto conjunto de reglas para determinar la interacción entre dos matrices :\n",
        "\n",
        "* Regla 1: Si las dos matrices difieren en su número de dimensiones, la forma de la matriz que tiene menos dimensiones se rellena con unos en el lado principal (izquierdo).\n",
        "\n",
        "* Regla 2: Si la forma de los dos matrices no coincide con ninguna dimensión, la matriz con la forma igual a 1 en esa dimensión se estira para que coincida con la otra dimensión.\n",
        "\n",
        "* Regla 3: Si en cualquier dimensión los tamaños son distintos y ninguno es igual a 1, se genera un error."
      ]
    },
    {
      "cell_type": "markdown",
      "metadata": {
        "id": "cthhoMVUqaMs"
      },
      "source": [
        "### Un útil truco:"
      ]
    },
    {
      "cell_type": "code",
      "execution_count": null,
      "metadata": {
        "id": "TLkpSl3hqaMs",
        "colab": {
          "base_uri": "https://localhost:8080/"
        },
        "outputId": "bcf92b16-df0a-4bd8-f23e-4ab706fe4a4b"
      },
      "outputs": [
        {
          "output_type": "execute_result",
          "data": {
            "text/plain": [
              "(4,)"
            ]
          },
          "metadata": {},
          "execution_count": 123
        }
      ],
      "source": [
        "J = np.arange(0, 40, 10)\n",
        "J.shape"
      ]
    },
    {
      "cell_type": "code",
      "execution_count": null,
      "metadata": {
        "id": "KhXkyiTpqaMs",
        "colab": {
          "base_uri": "https://localhost:8080/"
        },
        "outputId": "c4464df1-f8b7-4d80-ece1-a96357ceb38a"
      },
      "outputs": [
        {
          "output_type": "execute_result",
          "data": {
            "text/plain": [
              "(4, 1)"
            ]
          },
          "metadata": {},
          "execution_count": 124
        }
      ],
      "source": [
        "J = J[:, np.newaxis]  # agregamos un nuevo eje ->  matriz 2D\n",
        "J.shape"
      ]
    },
    {
      "cell_type": "code",
      "execution_count": null,
      "metadata": {
        "id": "Zb16ZWGsqaMs",
        "colab": {
          "base_uri": "https://localhost:8080/"
        },
        "outputId": "84b3e186-d601-4381-ba22-23cf6035f0d3"
      },
      "outputs": [
        {
          "output_type": "execute_result",
          "data": {
            "text/plain": [
              "array([[ 0],\n",
              "       [10],\n",
              "       [20],\n",
              "       [30]])"
            ]
          },
          "metadata": {},
          "execution_count": 125
        }
      ],
      "source": [
        "J"
      ]
    },
    {
      "cell_type": "code",
      "execution_count": null,
      "metadata": {
        "id": "ncQuGxd5qaMs",
        "colab": {
          "base_uri": "https://localhost:8080/"
        },
        "outputId": "59fc5f54-f60d-4858-c8e6-f80447fab2ca"
      },
      "outputs": [
        {
          "output_type": "execute_result",
          "data": {
            "text/plain": [
              "array([[ 3],\n",
              "       [13],\n",
              "       [23],\n",
              "       [33]])"
            ]
          },
          "metadata": {},
          "execution_count": 126
        }
      ],
      "source": [
        "J + 3"
      ]
    },
    {
      "cell_type": "markdown",
      "metadata": {
        "id": "1b5uLnfzqaMt"
      },
      "source": [
        "### Comparaciones, máscaras y lógica Booleana\n"
      ]
    },
    {
      "cell_type": "code",
      "execution_count": null,
      "metadata": {
        "id": "MeYaAuW_qaMt",
        "colab": {
          "base_uri": "https://localhost:8080/"
        },
        "outputId": "c2499cc6-ed37-4e38-e5c5-a596e30e2857"
      },
      "outputs": [
        {
          "output_type": "execute_result",
          "data": {
            "text/plain": [
              "array([ True,  True, False, False])"
            ]
          },
          "metadata": {},
          "execution_count": 127
        }
      ],
      "source": [
        "a1 = np.array([1, 2, 3, 4])\n",
        "b1 = np.array([4, 3, 2, 1])\n",
        "a1 < b1"
      ]
    },
    {
      "cell_type": "code",
      "execution_count": null,
      "metadata": {
        "id": "Aqhi445LqaMt",
        "colab": {
          "base_uri": "https://localhost:8080/"
        },
        "outputId": "b455faca-f0cc-4409-b28a-2acda7cb8378"
      },
      "outputs": [
        {
          "output_type": "execute_result",
          "data": {
            "text/plain": [
              "False"
            ]
          },
          "metadata": {},
          "execution_count": 128
        }
      ],
      "source": [
        "np.all(a1 < b1)"
      ]
    },
    {
      "cell_type": "code",
      "execution_count": null,
      "metadata": {
        "id": "Mvvqq-tyqaMt",
        "colab": {
          "base_uri": "https://localhost:8080/"
        },
        "outputId": "30cb8de0-44d9-4fb6-d8a2-1a5d2b568401"
      },
      "outputs": [
        {
          "output_type": "execute_result",
          "data": {
            "text/plain": [
              "True"
            ]
          },
          "metadata": {},
          "execution_count": 129
        }
      ],
      "source": [
        "np.any(a1 < b1)"
      ]
    },
    {
      "cell_type": "code",
      "execution_count": null,
      "metadata": {
        "id": "_hKNRIasqaMt",
        "colab": {
          "base_uri": "https://localhost:8080/"
        },
        "outputId": "f4c143e5-595d-4d0d-d35f-a336412289dc"
      },
      "outputs": [
        {
          "output_type": "stream",
          "name": "stdout",
          "text": [
            "Algunos elementos en a1 son menores que los elementos de b1\n"
          ]
        }
      ],
      "source": [
        "if np.all(a1 < b1):\n",
        "    print(\" Todos los elementos en a1 son menores que los elementos en b1 \")\n",
        "elif np.any(a1 < b1):\n",
        "    print(\"Algunos elementos en a1 son menores que los elementos de b1\")\n",
        "else:\n",
        "    print(\"Todos los elementos en b1 son menores que los elementos de a1\")"
      ]
    },
    {
      "cell_type": "markdown",
      "metadata": {
        "id": "2nLXUCapqaMt"
      },
      "source": [
        "Al aparecer en una expresión aritmética junto con un número escalar, u otra matriz `NumPy` con un tipo de datos numéricos, una matriz booleana se convierte en una matriz numérica con valores `0` y `1` en lugar de `False` y `True`, respectivamente."
      ]
    },
    {
      "cell_type": "code",
      "execution_count": null,
      "metadata": {
        "id": "uHL9SWIVqaMu",
        "colab": {
          "base_uri": "https://localhost:8080/"
        },
        "outputId": "18650304-1834-4d89-8813-0dae97b9b899"
      },
      "outputs": [
        {
          "output_type": "stream",
          "name": "stdout",
          "text": [
            "[[2 0]\n",
            " [0 2]]\n",
            "[[1.   0.  ]\n",
            " [0.   0.25]]\n"
          ]
        }
      ],
      "source": [
        "# Completar\n",
        "# Crear una matriz booleana 2x2\n",
        "bool_mat = np.array([[True, False], [False, True]])\n",
        "\n",
        "# Multiplicar la matriz booleana por un número escalar\n",
        "result1 = bool_mat * 2\n",
        "\n",
        "# Dividir la matriz booleana por otra matriz numérica\n",
        "num_mat = np.array([[1, 2], [3, 4]])\n",
        "result2 = bool_mat / num_mat\n",
        "\n",
        "# Imprimir los resultados\n",
        "print(result1)\n",
        "print(result2)\n"
      ]
    },
    {
      "cell_type": "markdown",
      "metadata": {
        "id": "tB_6ydqXqaMu"
      },
      "source": [
        "*Esta* es una propiedad útil para la computación condicional, como cuando se definen funciones."
      ]
    },
    {
      "cell_type": "code",
      "execution_count": null,
      "metadata": {
        "id": "_ql1WHMbqaMu",
        "colab": {
          "base_uri": "https://localhost:8080/",
          "height": 472
        },
        "outputId": "ec5203ac-a17c-43ef-9979-aafe2b09e737"
      },
      "outputs": [
        {
          "output_type": "display_data",
          "data": {
            "text/plain": [
              "<Figure size 640x480 with 1 Axes>"
            ],
            "image/png": "[encoded data removed]"
          },
          "metadata": {}
        }
      ],
      "source": [
        "#def pulso(t, posicion, altura, ancho):\n",
        "#    return altura * (t >= posicion) * (t <= (posicion + ancho))\n",
        "# Completar\n",
        "import numpy as np\n",
        "\n",
        "def pulso(t, posicion, altura, ancho):\n",
        "    return altura * (t >= posicion) * (t <= (posicion + ancho))\n",
        "\n",
        "# Creamos un conjunto de valores de tiempo\n",
        "t = np.linspace(0, 10, 1000)\n",
        "\n",
        "# Calculamos un pulso rectangular con posición en t=2, altura de 1 y ancho de 3\n",
        "pulso_rectangular = pulso(t, 2, 1, 3)\n",
        "\n",
        "# Graficamos el resultado\n",
        "import matplotlib.pyplot as plt\n",
        "plt.plot(t, pulso_rectangular)\n",
        "plt.xlabel('Tiempo')\n",
        "plt.ylabel('Amplitud')\n",
        "plt.title('Pulso rectangular')\n",
        "plt.grid()\n",
        "plt.show()\n"
      ]
    },
    {
      "cell_type": "markdown",
      "metadata": {
        "id": "VpGU0FGBqaMu"
      },
      "source": [
        "### Matrices booleanas como máscaras\n",
        "\n",
        "Revisar: [masked array](https://docs.scipy.org/doc/numpy/reference/maskedarray.html)."
      ]
    },
    {
      "cell_type": "code",
      "execution_count": null,
      "metadata": {
        "id": "4PQgtpS4qaMu",
        "colab": {
          "base_uri": "https://localhost:8080/"
        },
        "outputId": "38ef26c4-ca3a-45ee-e589-958a8627a803"
      },
      "outputs": [
        {
          "output_type": "execute_result",
          "data": {
            "text/plain": [
              "array([False, False,  True, False, False,  True])"
            ]
          },
          "metadata": {},
          "execution_count": 133
        }
      ],
      "source": [
        "k = np.array([1, 3, -1, 5, 7, -1])\n",
        "mask = (k < 0)\n",
        "mask"
      ]
    },
    {
      "cell_type": "code",
      "execution_count": null,
      "metadata": {
        "id": "KJ9jFSKuqaMv",
        "colab": {
          "base_uri": "https://localhost:8080/"
        },
        "outputId": "d6344b09-4eb7-42a1-a56b-87b324bed4c6"
      },
      "outputs": [
        {
          "output_type": "execute_result",
          "data": {
            "text/plain": [
              "array([[5, 0, 3, 3],\n",
              "       [7, 9, 3, 5],\n",
              "       [2, 4, 7, 6]])"
            ]
          },
          "metadata": {},
          "execution_count": 134
        }
      ],
      "source": [
        "# Un ejemplo bidimensional\n",
        "rng = np.random.RandomState(0)\n",
        "z1 = rng.randint(10, size=(3, 4))\n",
        "z1"
      ]
    },
    {
      "cell_type": "code",
      "execution_count": null,
      "metadata": {
        "id": "NXAwAvs8qaMv"
      },
      "outputs": [],
      "source": [
        "# Completar\n",
        "rng = np.random.RandomState(0)\n"
      ]
    },
    {
      "cell_type": "markdown",
      "metadata": {
        "id": "IvBwaoXEqaMv"
      },
      "source": [
        "Ahora, para seleccionar estos valores de la matriz, podemos simplemente indexar en esta matriz booleana, esto se conoce como una operación de `enmascaramiento`:"
      ]
    },
    {
      "cell_type": "code",
      "execution_count": 1,
      "metadata": {
        "id": "osgH-qNWqaMv",
        "colab": {
          "base_uri": "https://localhost:8080/",
          "height": 183
        },
        "outputId": "7c0720e0-7087-4a57-8f8f-c713427d61b9"
      },
      "outputs": [
        {
          "output_type": "error",
          "ename": "NameError",
          "evalue": "ignored",
          "traceback": [
            "\u001b[0;31m---------------------------------------------------------------------------\u001b[0m",
            "\u001b[0;31mNameError\u001b[0m                                 Traceback (most recent call last)",
            "\u001b[0;32m<ipython-input-1-be0c4f738fee>\u001b[0m in \u001b[0;36m<cell line: 2>\u001b[0;34m()\u001b[0m\n\u001b[1;32m      1\u001b[0m \u001b[0;31m# Completar\u001b[0m\u001b[0;34m\u001b[0m\u001b[0;34m\u001b[0m\u001b[0m\n\u001b[0;32m----> 2\u001b[0;31m \u001b[0mmascara\u001b[0m \u001b[0;34m=\u001b[0m \u001b[0mz1\u001b[0m \u001b[0;34m>=\u001b[0m \u001b[0;36m5\u001b[0m\u001b[0;34m\u001b[0m\u001b[0;34m\u001b[0m\u001b[0m\n\u001b[0m",
            "\u001b[0;31mNameError\u001b[0m: name 'z1' is not defined"
          ]
        }
      ],
      "source": [
        "# Completar\n",
        "mascara = z1 >= 5\n"
      ]
    },
    {
      "cell_type": "markdown",
      "metadata": {
        "id": "J1tyYXNeqaMv"
      },
      "source": [
        "El siguiente ejemplo muestra cómo sumar la matriz de enmascaramiento,  donde `True` representa uno y `False` representa 0."
      ]
    },
    {
      "cell_type": "code",
      "execution_count": null,
      "metadata": {
        "id": "aTqwfAtAqaMv"
      },
      "outputs": [],
      "source": [
        "# Completar\n",
        "mascara = np.array([[True, False, True], [True, True, False], [False, False, True]])\n"
      ]
    },
    {
      "cell_type": "markdown",
      "metadata": {
        "id": "oqDn9SxmHRKr"
      },
      "source": [
        "### Lectura recomendada: [Numpy Reference](https://docs.scipy.org/doc/numpy/reference/)."
      ]
    },
    {
      "cell_type": "code",
      "execution_count": null,
      "metadata": {
        "id": "ZstWnij4qaMw"
      },
      "outputs": [],
      "source": []
    }
  ],
  "metadata": {
    "colab": {
      "provenance": [],
      "include_colab_link": true
    },
    "kernelspec": {
      "display_name": "Python 3",
      "language": "python",
      "name": "python3"
    },
    "language_info": {
      "codemirror_mode": {
        "name": "ipython",
        "version": 3
      },
      "file_extension": ".py",
      "mimetype": "text/x-python",
      "name": "python",
      "nbconvert_exporter": "python",
      "pygments_lexer": "ipython3",
      "version": "3.7.10"
    }
  },
  "nbformat": 4,
  "nbformat_minor": 0
}